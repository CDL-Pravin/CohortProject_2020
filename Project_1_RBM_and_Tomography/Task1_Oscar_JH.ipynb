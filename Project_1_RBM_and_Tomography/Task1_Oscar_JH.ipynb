{
 "cells": [
  {
   "cell_type": "markdown",
   "metadata": {},
   "source": [
    "# Task #1 \n",
    "\n",
    "A template code for training an RBM on H$_2$ data for $r = 1.2$ is shown here. Modify this!\n",
    "\n",
    "Imports and loading in data:\n",
    "\n",
    "\n",
    "## Run the notebook on google colab\n",
    "To run the notebook on google colab press the badge below \n",
    "\n",
    "[![Open In Colab](https://colab.research.google.com/assets/colab-badge.svg)](https://colab.research.google.com/github/olgOk/CohortProject_2020/blob/master/Project_1_RBM_and_Tomography/Task1_Oscar_JH.ipynb)"
   ]
  },
  {
   "cell_type": "code",
   "execution_count": 1,
   "metadata": {
    "ExecuteTime": {
     "end_time": "2020-06-26T14:55:19.174279Z",
     "start_time": "2020-06-26T14:55:16.177972Z"
    }
   },
   "outputs": [],
   "source": [
    "import numpy as np\n",
    "import torch\n",
    "import matplotlib.pyplot as plt\n",
    "import os\n",
    "\n",
    "# Added code to run on google colab\n",
    "import sys\n",
    "IN_COLAB = 'google.colab' in sys.modules\n",
    "if IN_COLAB:\n",
    "  ! git clone https://github.com/olgOk/CohortProject_2020.git\n",
    "  from google.colab import drive\n",
    "  drive.mount('/content/gdrive') \n",
    "  %cd Project_1_RBM_and_Tomography/\n",
    "  ! git pull\n",
    "\n",
    "from RBM_helper import RBM\n",
    "import H2_energy_calculator\n",
    "\n",
    "# # training_data = torch.from_numpy(np.loadtxt(\"H2_data/R_1.2_samples.txt\"))\n",
    "# training_data = torch.from_numpy(np.loadtxt(\"H2_data/R_1.2_samples.txt\"))\n",
    "coeff = np.loadtxt(\"H2_data/H2_coefficients.txt\")[20,:]\n",
    "\n",
    "# true_energy = H2_energy_calculator.energy_from_freq(training_data, coeff)\n",
    "# print(\"H2 energy for r = 1.2: \",true_energy)\n",
    "# print(type(training_data))\n",
    "\n"
   ]
  },
  {
   "cell_type": "markdown",
   "metadata": {},
   "source": [
    "Define the RBM:"
   ]
  },
  {
   "cell_type": "code",
   "execution_count": 2,
   "metadata": {
    "ExecuteTime": {
     "end_time": "2020-06-26T14:55:21.183670Z",
     "start_time": "2020-06-26T14:55:21.179123Z"
    }
   },
   "outputs": [],
   "source": [
    "n_vis = 2\n",
    "n_hin = 10\n",
    "\n",
    "rbm = RBM(n_vis, n_hin)"
   ]
  },
  {
   "cell_type": "markdown",
   "metadata": {},
   "source": [
    "Train the RBM:"
   ]
  },
  {
   "cell_type": "code",
   "execution_count": 92,
   "metadata": {
    "ExecuteTime": {
     "end_time": "2020-06-26T14:56:24.307961Z",
     "start_time": "2020-06-26T14:55:39.819468Z"
    }
   },
   "outputs": [],
   "source": [
    "def train_RBM( training_data): \n",
    "    \n",
    "    epochs = 500 # number of training steps\n",
    "    num_samples = 1000 # number of samples to generate from the RBM to calculate the H2 energy\n",
    "    N_draws = 1000 # For quantifying the variance of the final model\n",
    "\n",
    "    true_energy = H2_energy_calculator.energy_from_freq(training_data, coeff)\n",
    "    #print(\"True energy: \",true_energy)\n",
    "\n",
    "    for e in range(1, epochs+1):\n",
    "        # do one epoch of training\n",
    "        rbm.train(training_data)   \n",
    "\n",
    "    # Draw several samples for the purpose of uncertainty quantification of the final results\n",
    "    \n",
    "    E_samples = np.zeros(N_draws)\n",
    "    \n",
    "    for k in range(0,N_draws):\n",
    "        init_state = torch.zeros(num_samples, n_vis)\n",
    "        RBM_samples = rbm.draw_samples(15, init_state)\n",
    "        energies = H2_energy_calculator.energy(RBM_samples, coeff, rbm.wavefunction)\n",
    "        E_samples[k] = energies.item()\n",
    "\n",
    "    return E_samples,true_energy\n",
    "\n",
    "\n",
    "def confidence_interval(x):\n",
    "    '''\n",
    "    Compute the 68% and 96% confidence inteval\n",
    "    '''\n",
    "    x_68 = np.percentile(x, [16,50,84])\n",
    "    x_96 = np.percentile(x, [2,50,98])\n",
    "    \n",
    "    return x_68,x_96"
   ]
  },
  {
   "cell_type": "code",
   "execution_count": 93,
   "metadata": {},
   "outputs": [],
   "source": [
    "# Sort the available radii first\n",
    "\n",
    "radii = []\n",
    "\n",
    "for entry in os.scandir('H2_data/'):\n",
    "    if (entry.path.endswith(\"samples.txt\")):\n",
    "        radius =  float(entry.name.split(\"_\")[1])\n",
    "        radii.append(radius)\n",
    "\n",
    "radii = np.array(radii)\n",
    "radii.sort()"
   ]
  },
  {
   "cell_type": "code",
   "execution_count": 94,
   "metadata": {},
   "outputs": [
    {
     "name": "stdout",
     "output_type": "stream",
     "text": [
      "r=0.2 [], E(rbm)=-1.0387497868145805 [], E(true)=-1.0272612255781348 []\n",
      "r=0.45 [], E(rbm)=-1.1971074646979543 [], E(true)=-1.0362617443402724 []\n",
      "r=0.7 [], E(rbm)=-1.2712140654698523 [], E(true)=-1.046658951711928 []\n",
      "r=0.95 [], E(rbm)=-1.2384699693841665 [], E(true)=-1.05858094757703 []\n",
      "r=1.2 [], E(rbm)=-1.1398168484798255 [], E(true)=-1.0642022250418146 []\n",
      "r=1.45 [], E(rbm)=-0.995659564994946 [], E(true)=-1.0550336434246872 []\n",
      "r=1.7 [], E(rbm)=-0.9225113460410881 [], E(true)=-1.0311415155381198 []\n",
      "r=1.95 [], E(rbm)=-0.8623698106887224 [], E(true)=-0.9798311216602571 []\n",
      "r=2.2 [], E(rbm)=-0.8270299177593836 [], E(true)=-0.9397402628548327 []\n",
      "r=2.45 [], E(rbm)=-0.8135990400163524 [], E(true)=-0.9078290367824813 []\n",
      "r=2.7 [], E(rbm)=-0.8011799296995397 [], E(true)=-0.8762670756779187 []\n"
     ]
    }
   ],
   "source": [
    "r_subset = []\n",
    "E_true_r = []\n",
    "E_rbm_r_med = []\n",
    "E_rbm_r_low_68 = []\n",
    "E_rbm_r_high_68 = []\n",
    "E_rbm_r_low_96 = []\n",
    "E_rbm_r_high_96 = []\n",
    "\n",
    "\n",
    "for k in range(0,len(radii),5):\n",
    "    rk = radii[k]\n",
    "    \n",
    "    r_subset.append(rk)\n",
    "    \n",
    "    file_name = 'H2_data/R_'+str(rk)+'_samples.txt'\n",
    "    training_data = torch.from_numpy(np.loadtxt(file_name))\n",
    "    E_rbm_samples, E_true = train_RBM(training_data)\n",
    "    E_68,E_96 = confidence_interval(E_rbm_samples)\n",
    "                                     \n",
    "    print('r={} [], E(rbm)={} [], E(true)={} []'.format(rk,E_68[1],E_true))\n",
    "    \n",
    "    E_rbm_r_high_68.append(E_68[2])\n",
    "    E_rbm_r_high_96.append(E_96[2])\n",
    "                \n",
    "    E_rbm_r_low_68.append(E_68[0])\n",
    "    E_rbm_r_low_96.append(E_96[0])\n",
    "    \n",
    "    E_rbm_r_med.append(E_68[1])\n",
    "    E_true_r.append(E_true)"
   ]
  },
  {
   "cell_type": "code",
   "execution_count": 99,
   "metadata": {},
   "outputs": [
    {
     "data": {
      "image/png": "[encoded data removed]",
      "text/plain": [
       "<Figure size 1080x360 with 1 Axes>"
      ]
     },
     "metadata": {
      "needs_background": "light"
     },
     "output_type": "display_data"
    }
   ],
   "source": [
    "plt.figure(figsize=(15,5))\n",
    "#plt.plot(E_rbm_r_low_68)\n",
    "plt.plot(r_subset,E_rbm_r_med,label='E(RBM) median',color='blue')\n",
    "#plt.plot(E_rbm_r_high_68)\n",
    "plt.fill_between(r_subset,E_rbm_r_low_68, E_rbm_r_high_68,color='blue',alpha='0.4',edgecolor='b') \n",
    "plt.fill_between(r_subset,E_rbm_r_low_96, E_rbm_r_high_96,color='blue',alpha='0.2',edgecolor='b') \n",
    "plt.plot(r_subset,E_true_r,label='Exact energy',color='red')\n",
    "plt.ylabel('Energy []',size=15)\n",
    "plt.xlabel('Radius []',size=15)\n",
    "plt.legend()\n",
    "plt.show()"
   ]
  },
  {
   "cell_type": "code",
   "execution_count": null,
   "metadata": {},
   "outputs": [],
   "source": []
  }
 ],
 "metadata": {
  "kernelspec": {
   "display_name": "Python 3",
   "language": "python",
   "name": "python3"
  },
  "language_info": {
   "codemirror_mode": {
    "name": "ipython",
    "version": 3
   },
   "file_extension": ".py",
   "mimetype": "text/x-python",
   "name": "python",
   "nbconvert_exporter": "python",
   "pygments_lexer": "ipython3",
   "version": "3.7.3"
  },
  "toc": {
   "base_numbering": 1,
   "nav_menu": {},
   "number_sections": true,
   "sideBar": true,
   "skip_h1_title": false,
   "title_cell": "Table of Contents",
   "title_sidebar": "Contents",
   "toc_cell": false,
   "toc_position": {},
   "toc_section_display": true,
   "toc_window_display": false
  },
  "varInspector": {
   "cols": {
    "lenName": 16,
    "lenType": 16,
    "lenVar": 40
   },
   "kernels_config": {
    "python": {
     "delete_cmd_postfix": "",
     "delete_cmd_prefix": "del ",
     "library": "var_list.py",
     "varRefreshCmd": "print(var_dic_list())"
    },
    "r": {
     "delete_cmd_postfix": ") ",
     "delete_cmd_prefix": "rm(",
     "library": "var_list.r",
     "varRefreshCmd": "cat(var_dic_list()) "
    }
   },
   "types_to_exclude": [
    "module",
    "function",
    "builtin_function_or_method",
    "instance",
    "_Feature"
   ],
   "window_display": false
  }
 },
 "nbformat": 4,
 "nbformat_minor": 2
}
