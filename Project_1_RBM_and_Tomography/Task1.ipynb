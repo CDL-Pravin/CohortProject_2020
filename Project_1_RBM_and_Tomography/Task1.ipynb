{
 "cells": [
  {
   "cell_type": "markdown",
   "metadata": {},
   "source": [
    "# Task #1 \n",
    "\n",
    "A template code for training an RBM on H$_2$ data for $r = 1.2$ is shown here. Modify this!\n",
    "\n",
    "Imports and loading in data:"
   ]
  },
  {
   "cell_type": "code",
   "execution_count": 17,
   "metadata": {
    "ExecuteTime": {
     "end_time": "2020-06-26T14:55:19.174279Z",
     "start_time": "2020-06-26T14:55:16.177972Z"
    }
   },
   "outputs": [],
   "source": [
    "import numpy as np\n",
    "import torch\n",
    "import matplotlib.pyplot as plt\n",
    "import os\n",
    "import pandas as pd\n",
    "\n",
    "# Added code to run on google colab\n",
    "import sys\n",
    "IN_COLAB = 'google.colab' in sys.modules\n",
    "if IN_COLAB:\n",
    "  ! git clone https://github.com/olgOk/CohortProject_2020.git\n",
    "  from google.colab import drive\n",
    "  drive.mount('/content/gdrive')\n",
    "  %cd CohortProject_2020/\n",
    "  %cd Project_1_RBM_and_Tomography/\n",
    "  ! git pull\n",
    "\n",
    "from RBM_helper import RBM\n",
    "import H2_energy_calculator\n",
    "\n",
    "# # training_data = torch.from_numpy(np.loadtxt(\"H2_data/R_1.2_samples.txt\"))\n",
    "# training_data = torch.from_numpy(np.loadtxt(\"H2_data/R_1.2_samples.txt\"))\n",
    "coeff = np.loadtxt(\"H2_data/H2_coefficients.txt\")[20,:]\n",
    "\n",
    "# true_energy = H2_energy_calculator.energy_from_freq(training_data, coeff)\n",
    "# print(\"H2 energy for r = 1.2: \",true_energy)\n",
    "# print(type(training_data))\n",
    "\n"
   ]
  },
  {
   "cell_type": "markdown",
   "metadata": {},
   "source": [
    "Define the RBM:"
   ]
  },
  {
   "cell_type": "code",
   "execution_count": 2,
   "metadata": {
    "ExecuteTime": {
     "end_time": "2020-06-26T14:55:21.183670Z",
     "start_time": "2020-06-26T14:55:21.179123Z"
    }
   },
   "outputs": [],
   "source": [
    "n_vis = 2\n",
    "n_hin = 10\n",
    "\n",
    "rbm = RBM(n_vis, n_hin)"
   ]
  },
  {
   "cell_type": "markdown",
   "metadata": {},
   "source": [
    "Train the RBM:"
   ]
  },
  {
   "cell_type": "code",
   "execution_count": 3,
   "metadata": {
    "ExecuteTime": {
     "end_time": "2020-06-26T14:56:24.307961Z",
     "start_time": "2020-06-26T14:55:39.819468Z"
    }
   },
   "outputs": [],
   "source": [
    "def train_RBM( training_data): \n",
    "    \n",
    "    epochs = 500 # number of training steps\n",
    "    num_samples = 1000 # number of samples to generate from the RBM to calculate the H2 energy\n",
    "    N_draws = 1000 # For quantifying the variance of the final model\n",
    "\n",
    "    true_energy = H2_energy_calculator.energy_from_freq(training_data, coeff)\n",
    "    #print(\"True energy: \",true_energy)\n",
    "\n",
    "    for e in range(1, epochs+1):\n",
    "        # do one epoch of training\n",
    "        rbm.train(training_data)   \n",
    "\n",
    "    # Draw several samples for the purpose of uncertainty quantification of the final results\n",
    "    \n",
    "    E_samples = np.zeros(N_draws)\n",
    "    \n",
    "    for k in range(0,N_draws):\n",
    "        init_state = torch.zeros(num_samples, n_vis)\n",
    "        RBM_samples = rbm.draw_samples(15, init_state)\n",
    "        energies = H2_energy_calculator.energy(RBM_samples, coeff, rbm.wavefunction)\n",
    "        E_samples[k] = energies.item()\n",
    "\n",
    "    return E_samples,true_energy\n",
    "\n",
    "\n",
    "def confidence_interval(x):\n",
    "    '''\n",
    "    Compute the 68% and 96% confidence inteval\n",
    "    '''\n",
    "    x_68 = np.percentile(x, [16,50,84])\n",
    "    x_96 = np.percentile(x, [2,50,98])\n",
    "    \n",
    "    return x_68,x_96"
   ]
  },
  {
   "cell_type": "code",
   "execution_count": 4,
   "metadata": {},
   "outputs": [],
   "source": [
    "# Sort the available radii first\n",
    "\n",
    "radii = []\n",
    "\n",
    "for entry in os.scandir('H2_data/'):\n",
    "    if (entry.path.endswith(\"samples.txt\")):\n",
    "        radius =  float(entry.name.split(\"_\")[1])\n",
    "        radii.append(radius)\n",
    "\n",
    "radii = np.array(radii)\n",
    "radii.sort()"
   ]
  },
  {
   "cell_type": "code",
   "execution_count": 5,
   "metadata": {},
   "outputs": [
    {
     "name": "stdout",
     "output_type": "stream",
     "text": [
      "r=0.2 [], E(rbm)=-1.0099469536502927 [], E(true)=-1.0272612255781348 []\n",
      "r=0.25 [], E(rbm)=-1.0090880053162754 [], E(true)=-1.0285713264808696 []\n",
      "r=0.3 [], E(rbm)=-1.0094403887094114 [], E(true)=-1.0289787152870253 []\n",
      "r=0.35 [], E(rbm)=-1.0094768213946503 [], E(true)=-1.0324782127249015 []\n",
      "r=0.4 [], E(rbm)=-1.0145785648784984 [], E(true)=-1.0339439695134862 []\n",
      "r=0.45 [], E(rbm)=-1.0275617487564992 [], E(true)=-1.0362617443402724 []\n",
      "r=0.5 [], E(rbm)=-1.0898872817929448 [], E(true)=-1.0380608769339534 []\n",
      "r=0.55 [], E(rbm)=-1.191665023231987 [], E(true)=-1.0392850239621994 []\n",
      "r=0.6 [], E(rbm)=-1.2716468000201409 [], E(true)=-1.0430990090273842 []\n",
      "r=0.65 [], E(rbm)=-1.30491580957406 [], E(true)=-1.0452519125171207 []\n",
      "r=0.7 [], E(rbm)=-1.3404515498211782 [], E(true)=-1.046658951711928 []\n",
      "r=0.75 [], E(rbm)=-1.3343166618958904 [], E(true)=-1.0494348817130146 []\n",
      "r=0.8 [], E(rbm)=-1.310197812085183 [], E(true)=-1.0531258395865126 []\n",
      "r=0.85 [], E(rbm)=-1.304897340470591 [], E(true)=-1.0537947736069744 []\n",
      "r=0.9 [], E(rbm)=-1.2448870332596313 [], E(true)=-1.057236404388469 []\n",
      "r=0.95 [], E(rbm)=-1.2370149713100456 [], E(true)=-1.05858094757703 []\n",
      "r=1.0 [], E(rbm)=-1.2159244253063763 [], E(true)=-1.0597637205756967 []\n",
      "r=1.05 [], E(rbm)=-1.1619663073744784 [], E(true)=-1.061627926407983 []\n",
      "r=1.1 [], E(rbm)=-1.1377714108479577 [], E(true)=-1.0628704803822298 []\n",
      "r=1.15 [], E(rbm)=-1.0933364758871147 [], E(true)=-1.0640336454496149 []\n",
      "r=1.2 [], E(rbm)=-1.0732566650830893 [], E(true)=-1.0642022250418146 []\n",
      "r=1.25 [], E(rbm)=-1.0354261391073087 [], E(true)=-1.0638310134297058 []\n",
      "r=1.3 [], E(rbm)=-1.0096253525882668 [], E(true)=-1.062763861747277 []\n",
      "r=1.35 [], E(rbm)=-0.9704107677893468 [], E(true)=-1.0609448171032052 []\n",
      "r=1.4 [], E(rbm)=-0.9751458096992872 [], E(true)=-1.0585418149658092 []\n",
      "r=1.45 [], E(rbm)=-0.9458774150373692 [], E(true)=-1.0550336434246872 []\n",
      "r=1.5 [], E(rbm)=-0.9141862907973457 [], E(true)=-1.0497107493775149 []\n",
      "r=1.55 [], E(rbm)=-0.8905732895606353 [], E(true)=-1.045890709404601 []\n",
      "r=1.6 [], E(rbm)=-0.8919933001655225 [], E(true)=-1.0408339191583378 []\n",
      "r=1.65 [], E(rbm)=-0.8722716670380184 [], E(true)=-1.0326783769893295 []\n",
      "r=1.7 [], E(rbm)=-0.8717826801127075 [], E(true)=-1.0311415155381198 []\n",
      "r=1.75 [], E(rbm)=-0.8413403387552602 [], E(true)=-1.0176683464200735 []\n",
      "r=1.8 [], E(rbm)=-0.8259544809949557 [], E(true)=-1.0101180286069797 []\n",
      "r=1.85 [], E(rbm)=-0.8052647378613846 [], E(true)=-0.9988361402323337 []\n",
      "r=1.9 [], E(rbm)=-0.811067505522396 [], E(true)=-0.9901309142199367 []\n",
      "r=1.95 [], E(rbm)=-0.804864531779387 [], E(true)=-0.9798311216602571 []\n",
      "r=2.0 [], E(rbm)=-0.7895389841971487 [], E(true)=-0.9724744744994698 []\n",
      "r=2.05 [], E(rbm)=-0.7890650992166948 [], E(true)=-0.9707890932965086 []\n",
      "r=2.1 [], E(rbm)=-0.7857730258764312 [], E(true)=-0.9590625522828007 []\n",
      "r=2.15 [], E(rbm)=-0.767033894203177 [], E(true)=-0.9453367978774545 []\n",
      "r=2.2 [], E(rbm)=-0.7654181329448011 [], E(true)=-0.9397402628548327 []\n",
      "r=2.25 [], E(rbm)=-0.7637136767452424 [], E(true)=-0.9281284249929258 []\n",
      "r=2.3 [], E(rbm)=-0.7566288151247501 [], E(true)=-0.9247568227883267 []\n",
      "r=2.35 [], E(rbm)=-0.7478136505445303 [], E(true)=-0.912841216005112 []\n",
      "r=2.4 [], E(rbm)=-0.7553930134520395 [], E(true)=-0.9161563118436927 []\n",
      "r=2.45 [], E(rbm)=-0.7483510478841785 [], E(true)=-0.9078290367824813 []\n",
      "r=2.5 [], E(rbm)=-0.749381554745347 [], E(true)=-0.9006480965108701 []\n",
      "r=2.55 [], E(rbm)=-0.7391804907195076 [], E(true)=-0.8865891713144782 []\n",
      "r=2.6 [], E(rbm)=-0.7375711835126356 [], E(true)=-0.8874596507187792 []\n",
      "r=2.65 [], E(rbm)=-0.7332892681310387 [], E(true)=-0.8764884896622689 []\n",
      "r=2.7 [], E(rbm)=-0.7360451142142352 [], E(true)=-0.8762670756779187 []\n",
      "r=2.75 [], E(rbm)=-0.7326905807929838 [], E(true)=-0.868169806585124 []\n",
      "r=2.8 [], E(rbm)=-0.7277867453438518 [], E(true)=-0.8686928806257138 []\n",
      "r=2.85 [], E(rbm)=-0.7278191061322362 [], E(true)=-0.8706320496450434 []\n"
     ]
    }
   ],
   "source": [
    "r_subset = []\n",
    "E_true_r = []\n",
    "E_rbm_r_med = []\n",
    "E_rbm_r_low_68 = []\n",
    "E_rbm_r_high_68 = []\n",
    "E_rbm_r_low_96 = []\n",
    "E_rbm_r_high_96 = []\n",
    "\n",
    "\n",
    "for k in range(0,len(radii),1):\n",
    "    rk = radii[k]\n",
    "    \n",
    "    r_subset.append(rk)\n",
    "    \n",
    "    file_name = 'H2_data/R_'+str(rk)+'_samples.txt'\n",
    "    training_data = torch.from_numpy(np.loadtxt(file_name))\n",
    "    E_rbm_samples, E_true = train_RBM(training_data)\n",
    "    E_68,E_96 = confidence_interval(E_rbm_samples)\n",
    "                                     \n",
    "    print('r={} [], E(rbm)={} [], E(true)={} []'.format(rk,E_68[1],E_true))\n",
    "    \n",
    "    E_rbm_r_high_68.append(E_68[2])\n",
    "    E_rbm_r_high_96.append(E_96[2])\n",
    "                \n",
    "    E_rbm_r_low_68.append(E_68[0])\n",
    "    E_rbm_r_low_96.append(E_96[0])\n",
    "    \n",
    "    E_rbm_r_med.append(E_68[1])\n",
    "    E_true_r.append(E_true)"
   ]
  },
  {
   "cell_type": "code",
   "execution_count": 22,
   "metadata": {},
   "outputs": [],
   "source": [
    "# Save all of the data as a pandas dataframe and export \n",
    "data = {'r': r_subset, \n",
    "        'E_rbm_r_low_96': E_rbm_r_low_96,\n",
    "        'E_rbm_r_low_68': E_rbm_r_low_68,\n",
    "        'E_rbm_r_high_68': E_rbm_r_high_68,\n",
    "        'E_rbm_r_high_96': E_rbm_r_high_96,\n",
    "        'E_rbm_r_median': E_rbm_r_med}\n",
    "\n",
    "df = pd.DataFrame(data=data)\n",
    "\n",
    "df.head()\n",
    "df.to_csv('E_RBM_H2_molecule.csv', index=False)\n",
    "# # Save the data to a file"
   ]
  },
  {
   "cell_type": "code",
   "execution_count": 24,
   "metadata": {},
   "outputs": [
    {
     "data": {
      "image/png": "[encoded data removed]",
      "text/plain": [
       "<Figure size 1080x360 with 1 Axes>"
      ]
     },
     "metadata": {
      "needs_background": "light"
     },
     "output_type": "display_data"
    }
   ],
   "source": [
    "plt.figure(figsize=(15,5))\n",
    "#plt.plot(E_rbm_r_low_68)\n",
    "plt.plot(r_subset,E_rbm_r_med,label='E(RBM) median',color='blue')\n",
    "#plt.plot(E_rbm_r_high_68)\n",
    "plt.fill_between(r_subset,E_rbm_r_low_68, E_rbm_r_high_68,color='blue',alpha='0.4',edgecolor='b') \n",
    "plt.fill_between(r_subset,E_rbm_r_low_96, E_rbm_r_high_96,color='blue',alpha='0.2',edgecolor='b') \n",
    "#plt.plot(r_subset,E_true_r,label='Exact energy',color='red')\n",
    "plt.ylabel('Energy [Hartree]',size=15)\n",
    "plt.xlabel('Radius [Angstrom]',size=15)\n",
    "plt.legend()\n",
    "plt.show()"
   ]
  },
  {
   "cell_type": "code",
   "execution_count": 23,
   "metadata": {},
   "outputs": [
    {
     "data": {
      "image/png": "[encoded data removed]",
      "text/plain": [
       "<Figure size 1080x360 with 1 Axes>"
      ]
     },
     "metadata": {
      "needs_background": "light"
     },
     "output_type": "display_data"
    }
   ],
   "source": [
    "plt.figure(figsize=(15,5))\n",
    "plt.plot(r_subset, np.array(E_true_r),label='Exact energy',color='red')\n",
    "plt.ylabel('Energy []',size=15)\n",
    "plt.xlabel('Radius []',size=15)\n",
    "plt.legend()\n",
    "plt.show()"
   ]
  },
  {
   "cell_type": "code",
   "execution_count": null,
   "metadata": {},
   "outputs": [],
   "source": []
  }
 ],
 "metadata": {
  "kernelspec": {
   "display_name": "Python 3",
   "language": "python",
   "name": "python3"
  },
  "language_info": {
   "codemirror_mode": {
    "name": "ipython",
    "version": 3
   },
   "file_extension": ".py",
   "mimetype": "text/x-python",
   "name": "python",
   "nbconvert_exporter": "python",
   "pygments_lexer": "ipython3",
   "version": "3.7.3"
  },
  "toc": {
   "base_numbering": 1,
   "nav_menu": {},
   "number_sections": true,
   "sideBar": true,
   "skip_h1_title": false,
   "title_cell": "Table of Contents",
   "title_sidebar": "Contents",
   "toc_cell": false,
   "toc_position": {},
   "toc_section_display": true,
   "toc_window_display": false
  },
  "varInspector": {
   "cols": {
    "lenName": 16,
    "lenType": 16,
    "lenVar": 40
   },
   "kernels_config": {
    "python": {
     "delete_cmd_postfix": "",
     "delete_cmd_prefix": "del ",
     "library": "var_list.py",
     "varRefreshCmd": "print(var_dic_list())"
    },
    "r": {
     "delete_cmd_postfix": ") ",
     "delete_cmd_prefix": "rm(",
     "library": "var_list.r",
     "varRefreshCmd": "cat(var_dic_list()) "
    }
   },
   "types_to_exclude": [
    "module",
    "function",
    "builtin_function_or_method",
    "instance",
    "_Feature"
   ],
   "window_display": false
  }
 },
 "nbformat": 4,
 "nbformat_minor": 2
}
