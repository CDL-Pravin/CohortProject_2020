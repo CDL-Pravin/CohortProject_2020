{
 "cells": [
  {
   "cell_type": "markdown",
   "metadata": {},
   "source": [
    "# Task #1 \n",
    "\n",
    "A template code for training an RBM on H$_2$ data for $r = 1.2$ is shown here. Modify this!\n",
    "\n",
    "Imports and loading in data:"
   ]
  },
  {
   "cell_type": "code",
   "execution_count": 1,
   "metadata": {
    "ExecuteTime": {
     "end_time": "2020-06-26T14:55:19.174279Z",
     "start_time": "2020-06-26T14:55:16.177972Z"
    }
   },
   "outputs": [
    {
     "name": "stdout",
     "output_type": "stream",
     "text": [
      "H2 energy for r = 1.2:  -1.0642022250418146\n",
      "<class 'torch.Tensor'>\n"
     ]
    }
   ],
   "source": [
    "import numpy as np\n",
    "import torch\n",
    "import matplotlib.pyplot as plt\n",
    "import os\n",
    "\n",
    "from RBM_helper import RBM\n",
    "\n",
    "import H2_energy_calculator\n",
    "\n",
    "# # training_data = torch.from_numpy(np.loadtxt(\"H2_data/R_1.2_samples.txt\"))\n",
    "training_data = torch.from_numpy(np.loadtxt(\"H2_data/R_1.2_samples.txt\"))\n",
    "coeff = np.loadtxt(\"H2_data/H2_coefficients.txt\")[20,:]\n",
    "\n",
    "true_energy = H2_energy_calculator.energy_from_freq(training_data, coeff)\n",
    "print(\"H2 energy for r = 1.2: \",true_energy)\n",
    "print(type(training_data))\n",
    "\n"
   ]
  },
  {
   "cell_type": "markdown",
   "metadata": {},
   "source": [
    "Define the RBM:"
   ]
  },
  {
   "cell_type": "code",
   "execution_count": 2,
   "metadata": {
    "ExecuteTime": {
     "end_time": "2020-06-26T14:55:21.183670Z",
     "start_time": "2020-06-26T14:55:21.179123Z"
    }
   },
   "outputs": [],
   "source": [
    "n_vis = 2\n",
    "n_hin = 10\n",
    "\n",
    "rbm = RBM(n_vis, n_hin)"
   ]
  },
  {
   "cell_type": "markdown",
   "metadata": {},
   "source": [
    "Train the RBM:"
   ]
  },
  {
   "cell_type": "code",
   "execution_count": 3,
   "metadata": {
    "ExecuteTime": {
     "end_time": "2020-06-26T14:56:24.307961Z",
     "start_time": "2020-06-26T14:55:39.819468Z"
    }
   },
   "outputs": [],
   "source": [
    "def train_RBM( training_data): \n",
    "    \n",
    "    epochs = 500 # number of training steps\n",
    "    num_samples = 1000 # number of samples to generate from the RBM to calculate the H2 energy\n",
    "\n",
    "    true_energy = H2_energy_calculator.energy_from_freq(training_data, coeff)\n",
    "    print(\"True energy: \",true_energy)\n",
    "\n",
    "    for e in range(1, epochs+1):\n",
    "        # do one epoch of training\n",
    "        rbm.train(training_data)   \n",
    "\n",
    "        # now generate samples and calculate the energy\n",
    "        if e % 100 == 0:\n",
    "#             print(\"\\nEpoch: \", e)\n",
    "#             print(\"Sampling the RBM...\")\n",
    "\n",
    "            # For sampling the RBM, we need to do Gibbs sampling.\n",
    "            # Initialize the Gibbs sampling chain with init_state as defined below.\n",
    "            init_state = torch.zeros(num_samples, n_vis)\n",
    "            RBM_samples = rbm.draw_samples(15, init_state)\n",
    "\n",
    "#             print(\"Done sampling. Calculating energy...\")       \n",
    "\n",
    "            energies = H2_energy_calculator.energy(RBM_samples, coeff, rbm.wavefunction) \n",
    "#             print(\"Energy from RBM samples: \", energies.item())\n",
    "    return energies.item()"
   ]
  },
  {
   "cell_type": "code",
   "execution_count": 4,
   "metadata": {},
   "outputs": [
    {
     "name": "stdout",
     "output_type": "stream",
     "text": [
      "True energy:  -1.0497107493775149\n",
      "True energy:  -1.0324782127249015\n",
      "True energy:  -1.0362617443402724\n",
      "True energy:  -0.9724744744994698\n",
      "True energy:  -1.0272612255781348\n",
      "True energy:  -1.0638310134297058\n",
      "True energy:  -1.045890709404601\n",
      "True energy:  -1.0392850239621994\n",
      "True energy:  -1.046658951711928\n",
      "True energy:  -1.0285713264808696\n",
      "True energy:  -0.9901309142199367\n",
      "True energy:  -0.8706320496450434\n",
      "True energy:  -1.0550336434246872\n",
      "True energy:  -1.0609448171032052\n",
      "True energy:  -0.9006480965108701\n",
      "True energy:  -1.0597637205756967\n",
      "True energy:  -1.062763861747277\n",
      "True energy:  -0.8874596507187792\n",
      "True energy:  -0.9798311216602571\n",
      "True energy:  -0.9281284249929258\n",
      "True energy:  -0.8865891713144782\n",
      "True energy:  -1.0537947736069744\n",
      "True energy:  -1.0339439695134862\n",
      "True energy:  -0.9988361402323337\n",
      "True energy:  -0.9247568227883267\n",
      "True energy:  -1.05858094757703\n",
      "True energy:  -1.0408339191583378\n",
      "True energy:  -1.0531258395865126\n",
      "True energy:  -0.9078290367824813\n",
      "True energy:  -0.912841216005112\n",
      "True energy:  -0.9161563118436927\n",
      "True energy:  -1.0628704803822298\n",
      "True energy:  -1.0101180286069797\n",
      "True energy:  -0.9453367978774545\n",
      "True energy:  -1.0430990090273842\n",
      "True energy:  -0.8764884896622689\n",
      "True energy:  -0.8686928806257138\n",
      "True energy:  -1.0289787152870253\n",
      "True energy:  -0.868169806585124\n",
      "True energy:  -0.9707890932965086\n",
      "True energy:  -1.0585418149658092\n",
      "True energy:  -0.9590625522828007\n",
      "True energy:  -1.057236404388469\n",
      "True energy:  -1.0494348817130146\n",
      "True energy:  -0.9397402628548327\n",
      "True energy:  -1.0311415155381198\n",
      "True energy:  -1.0640336454496149\n",
      "True energy:  -1.0326783769893295\n",
      "True energy:  -1.0380608769339534\n",
      "True energy:  -1.0452519125171207\n",
      "True energy:  -1.0642022250418146\n",
      "True energy:  -1.0176683464200735\n",
      "True energy:  -0.8762670756779187\n",
      "True energy:  -1.061627926407983\n"
     ]
    }
   ],
   "source": [
    "# \n",
    "# load R_<r_value_samples.txt from H2_data folder\n",
    "# \n",
    "# evaluate true_energy on each training data, use it to plot E_bond(r)\n",
    "\n",
    "Ebond = {}\n",
    "directory = 'H2_data'\n",
    "for entry in os.scandir(directory):\n",
    "    if (entry.path.endswith(\"samples.txt\")):\n",
    "        training_data = torch.from_numpy(np.loadtxt(entry))\n",
    "        radius = entry.name.split(\"_\")[1]\n",
    "        Ebond[radius] = train_RBM(training_data)\n",
    "#         print(Ebond)"
   ]
  },
  {
   "cell_type": "code",
   "execution_count": 5,
   "metadata": {},
   "outputs": [
    {
     "name": "stdout",
     "output_type": "stream",
     "text": [
      "{'1.5': -0.9639010974266506, '0.35': -1.4235861414548685, '0.45': -1.441944336930959, '2.0': -0.866708322557493, '0.2': -1.7142155921084816, '1.25': -1.0479000887957413, '1.55': -0.9342757029801625, '0.55': -1.4674591568973259, '0.7': -1.477045120800062, '0.25': -1.7402639035577325, '1.9': -0.850001809547833, '2.85': -0.8071830720843924, '1.45': -0.9614299819777083, '1.35': -1.0077869111420252, '2.5': -0.8272967376455335, '1.0': -1.145034578718165, '1.3': -1.0275441242278431, '2.6': -0.7987039425149, '1.95': -0.8487939641612863, '2.25': -0.8208024320774093, '2.55': -0.8284996186190947, '0.85': -1.0989167472496142, '0.4': -1.3138043083949893, '1.85': -0.881953353018093, '2.3': -0.8274144886348451, '0.95': -1.053773377273978, '1.6': -0.9388821818406219, '0.8': -1.1161014653363752, '2.45': -0.826829747732525, '2.35': -0.8228723055519382, '2.4': -0.7989473593190151, '1.1': -0.9892895128652057, '1.8': -0.8882577437243991, '2.15': -0.83722561774465, '0.6': -1.0360369002183412, '2.65': -0.818363918041562, '2.8': -0.7920446771210795, '0.3': -1.0042905391111847, '2.75': -0.8268059322560163, '2.05': -0.8504601833645462, '1.4': -0.9274888805484758, '2.1': -0.8468338030827932, '0.9': -0.9931725015757321, '0.75': -1.0987603725586808, '2.2': -0.8740411511650938, '1.7': -0.9016599384424795, '1.15': -0.9811519819647867, '1.65': -0.9281111620024518, '0.5': -1.0583464671688816, '0.65': -1.1534548756304974, '1.2': -1.1158188343962316, '1.75': -0.9440124515334952, '2.7': -0.8311901607574091, '1.05': -0.9326486663740985}\n",
      "OrderedDict([('0.2', -1.7142155921084816), ('0.25', -1.7402639035577325), ('0.3', -1.0042905391111847), ('0.35', -1.4235861414548685), ('0.4', -1.3138043083949893), ('0.45', -1.441944336930959), ('0.5', -1.0583464671688816), ('0.55', -1.4674591568973259), ('0.6', -1.0360369002183412), ('0.65', -1.1534548756304974), ('0.7', -1.477045120800062), ('0.75', -1.0987603725586808), ('0.8', -1.1161014653363752), ('0.85', -1.0989167472496142), ('0.9', -0.9931725015757321), ('0.95', -1.053773377273978), ('1.0', -1.145034578718165), ('1.05', -0.9326486663740985), ('1.1', -0.9892895128652057), ('1.15', -0.9811519819647867), ('1.2', -1.1158188343962316), ('1.25', -1.0479000887957413), ('1.3', -1.0275441242278431), ('1.35', -1.0077869111420252), ('1.4', -0.9274888805484758), ('1.45', -0.9614299819777083), ('1.5', -0.9639010974266506), ('1.55', -0.9342757029801625), ('1.6', -0.9388821818406219), ('1.65', -0.9281111620024518), ('1.7', -0.9016599384424795), ('1.75', -0.9440124515334952), ('1.8', -0.8882577437243991), ('1.85', -0.881953353018093), ('1.9', -0.850001809547833), ('1.95', -0.8487939641612863), ('2.0', -0.866708322557493), ('2.05', -0.8504601833645462), ('2.1', -0.8468338030827932), ('2.15', -0.83722561774465), ('2.2', -0.8740411511650938), ('2.25', -0.8208024320774093), ('2.3', -0.8274144886348451), ('2.35', -0.8228723055519382), ('2.4', -0.7989473593190151), ('2.45', -0.826829747732525), ('2.5', -0.8272967376455335), ('2.55', -0.8284996186190947), ('2.6', -0.7987039425149), ('2.65', -0.818363918041562), ('2.7', -0.8311901607574091), ('2.75', -0.8268059322560163), ('2.8', -0.7920446771210795), ('2.85', -0.8071830720843924)])\n",
      "[0.2, 0.25, 0.3, 0.35, 0.4, 0.45, 0.5, 0.55, 0.6, 0.65, 0.7, 0.75, 0.8, 0.85, 0.9, 0.95, 1.0, 1.05, 1.1, 1.15, 1.2, 1.25, 1.3, 1.35, 1.4, 1.45, 1.5, 1.55, 1.6, 1.65, 1.7, 1.75, 1.8, 1.85, 1.9, 1.95, 2.0, 2.05, 2.1, 2.15, 2.2, 2.25, 2.3, 2.35, 2.4, 2.45, 2.5, 2.55, 2.6, 2.65, 2.7, 2.75, 2.8, 2.85]\n",
      "[-1.7142155921084816, -1.7402639035577325, -1.0042905391111847, -1.4235861414548685, -1.3138043083949893, -1.441944336930959, -1.0583464671688816, -1.4674591568973259, -1.0360369002183412, -1.1534548756304974, -1.477045120800062, -1.0987603725586808, -1.1161014653363752, -1.0989167472496142, -0.9931725015757321, -1.053773377273978, -1.145034578718165, -0.9326486663740985, -0.9892895128652057, -0.9811519819647867, -1.1158188343962316, -1.0479000887957413, -1.0275441242278431, -1.0077869111420252, -0.9274888805484758, -0.9614299819777083, -0.9639010974266506, -0.9342757029801625, -0.9388821818406219, -0.9281111620024518, -0.9016599384424795, -0.9440124515334952, -0.8882577437243991, -0.881953353018093, -0.850001809547833, -0.8487939641612863, -0.866708322557493, -0.8504601833645462, -0.8468338030827932, -0.83722561774465, -0.8740411511650938, -0.8208024320774093, -0.8274144886348451, -0.8228723055519382, -0.7989473593190151, -0.826829747732525, -0.8272967376455335, -0.8284996186190947, -0.7987039425149, -0.818363918041562, -0.8311901607574091, -0.8268059322560163, -0.7920446771210795, -0.8071830720843924]\n"
     ]
    },
    {
     "data": {
      "image/png": "[encoded data removed]",
      "text/plain": [
       "<Figure size 432x288 with 1 Axes>"
      ]
     },
     "metadata": {
      "needs_background": "light"
     },
     "output_type": "display_data"
    }
   ],
   "source": [
    "import collections\n",
    "\n",
    "Ebond_sorted = collections.OrderedDict(sorted(Ebond.items()))\n",
    "x_values = [] # radii\n",
    "y_values = [] # Energy\n",
    "\n",
    "for key, val in Ebond_sorted.items():\n",
    "    x_values.append(float(key))\n",
    "    y_values.append(val)\n",
    "\n",
    "# plot Ebont(r)\n",
    "plt.plot(x_values, y_values)\n",
    "plt.xlabel('r')\n",
    "plt.ylabel('Ebond')\n",
    "plt.title('Ebond(r)')\n",
    "plt.show()"
   ]
  }
 ],
 "metadata": {
  "kernelspec": {
   "display_name": "Python 3",
   "language": "python",
   "name": "python3"
  },
  "language_info": {
   "codemirror_mode": {
    "name": "ipython",
    "version": 3
   },
   "file_extension": ".py",
   "mimetype": "text/x-python",
   "name": "python",
   "nbconvert_exporter": "python",
   "pygments_lexer": "ipython3",
   "version": "3.7.7"
  },
  "toc": {
   "base_numbering": 1,
   "nav_menu": {},
   "number_sections": true,
   "sideBar": true,
   "skip_h1_title": false,
   "title_cell": "Table of Contents",
   "title_sidebar": "Contents",
   "toc_cell": false,
   "toc_position": {},
   "toc_section_display": true,
   "toc_window_display": false
  },
  "varInspector": {
   "cols": {
    "lenName": 16,
    "lenType": 16,
    "lenVar": 40
   },
   "kernels_config": {
    "python": {
     "delete_cmd_postfix": "",
     "delete_cmd_prefix": "del ",
     "library": "var_list.py",
     "varRefreshCmd": "print(var_dic_list())"
    },
    "r": {
     "delete_cmd_postfix": ") ",
     "delete_cmd_prefix": "rm(",
     "library": "var_list.r",
     "varRefreshCmd": "cat(var_dic_list()) "
    }
   },
   "types_to_exclude": [
    "module",
    "function",
    "builtin_function_or_method",
    "instance",
    "_Feature"
   ],
   "window_display": false
  }
 },
 "nbformat": 4,
 "nbformat_minor": 2
}
