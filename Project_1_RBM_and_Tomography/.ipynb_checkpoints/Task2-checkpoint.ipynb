{
 "cells": [
  {
   "cell_type": "markdown",
   "metadata": {},
   "source": [
    "# Task #2\n",
    "\n",
    "A template code for training an RBM on Rydberg atom data (the full dataset) is provided below. For the first part of this task (determining the minimum number of hidden units), start with 20 hidden units. \n",
    "\n",
    "Imports and loadining in data:"
   ]
  },
  {
   "cell_type": "code",
   "execution_count": 1,
   "metadata": {},
   "outputs": [],
   "source": [
    "import numpy as np\n",
    "import torch\n",
    "from RBM_helper import RBM\n",
    "\n",
    "import Rydberg_energy_calculator\n",
    "\n",
    "training_data = torch.from_numpy(np.loadtxt(\"Rydberg_data.txt\"))"
   ]
  },
  {
   "cell_type": "markdown",
   "metadata": {},
   "source": [
    "Define the RBM:"
   ]
  },
  {
   "cell_type": "code",
   "execution_count": 2,
   "metadata": {},
   "outputs": [],
   "source": [
    "n_vis = training_data.shape[1]\n",
    "n_hin = 0\n",
    "rbm = RBM(n_vis, n_hin)"
   ]
  },
  {
   "cell_type": "markdown",
   "metadata": {},
   "source": [
    "Train the RBM:"
   ]
  },
  {
   "cell_type": "code",
   "execution_count": null,
   "metadata": {},
   "outputs": [],
   "source": [
    "#Limit to 1000 epochs\n",
    "epochs = 1000\n",
    "#Load Entire Dataset \n",
    "num_samples = training_data.shape[0]\n",
    "condition = True\n",
    "\n",
    "exact_energy = -4.1203519096\n",
    "print(\"Exact energy: \",exact_energy)\n",
    "\n",
    "while(condition):\n",
    "    n_hin = n_hin + 1\n",
    "    rbm = RBM(n_vis, n_hin)\n",
    "    #Hold Values of energy for 1000 epochs to calculate avg\n",
    "    avg_diff = []\n",
    "    print(\"\")\n",
    "    print(\"###################################################\")\n",
    "    print(\"Hidden\", n_hin)\n",
    "    \n",
    "    for e in range(1, epochs+1):\n",
    "        # do one epoch of training\n",
    "        rbm.train(training_data)   \n",
    "\n",
    "        # now generate samples and calculate the energy\n",
    "        if e % 100 == 0:\n",
    "            print(\"\\nEpoch: \", e)\n",
    "            print(\"Sampling...\")\n",
    "\n",
    "            init_state = torch.zeros(num_samples, n_vis)\n",
    "            RBM_samples = rbm.draw_samples(100, init_state)\n",
    "\n",
    "            print(\"Done sampling. Calculating energy...\") \n",
    "\n",
    "            energies = Rydberg_energy_calculator.energy(RBM_samples, rbm.wavefunction) \n",
    "            \n",
    "            print(\"Energy from RBM samples: \", energies.item())\n",
    "            \n",
    "            print(\"Diff\", abs(energies.item() - exact_energy))\n",
    "            avg_diff.append(abs(energies.item() - exact_energy)) #Place energy in place holder\n",
    "            \n",
    "            print(\"Avg-Diff\", sum(avg_diff)/len(avg_diff))\n",
    "            \n",
    "            #The Learning Criterion - Train the RBM until this is satisfied\n",
    "            if (sum(avg_diff)/len(avg_diff)) <= 0.0001:\n",
    "                            print(\"Hidden\", n_hin)\n",
    "                            print(\"Learning Creterion Met!\", energies.item())\n",
    "                            condition = False\n",
    "                            break\n",
    "                "
   ]
  },
  {
   "cell_type": "code",
   "execution_count": null,
   "metadata": {},
   "outputs": [],
   "source": [
    "#Limit to 1000 epochs\n",
    "epochs = 500\n",
    "#Load Entire Dataset \n",
    "num_samples = training_data.shape[0]\n",
    "\n",
    "exact_energy = -4.1203519096\n",
    "print(\"Exact energy: \",exact_energy)\n",
    "\n",
    "while(condition):\n",
    "    n_hin = n_hin + 1\n",
    "    rbm = RBM(n_vis, n_hin)\n",
    "    print(\"\")\n",
    "    print(\"###################################################\")\n",
    "    print(\"Hidden\", n_hin)\n",
    "    \n",
    "    for e in range(1, epochs+1):\n",
    "        # do one epoch of training\n",
    "        rbm.train(training_data)   \n",
    "\n",
    "        # now generate samples and calculate the energy\n",
    "        if e % 100 == 0:\n",
    "            print(\"\\nEpoch: \", e)\n",
    "            print(\"Sampling...\")\n",
    "\n",
    "            init_state = torch.zeros(num_samples, n_vis)\n",
    "            RBM_samples = rbm.draw_samples(100, init_state)\n",
    "\n",
    "            print(\"Done sampling. Calculating energy...\") \n",
    "\n",
    "            energies = Rydberg_energy_calculator.energy(RBM_samples, rbm.wavefunction) \n",
    "            print(\"Energy from RBM samples: \", energies.item())\n",
    "            \n",
    "            print(\"Diff\", abs(energies.item() - exact_energy))\n",
    "            \n",
    "            #The Learning Criterion - Train the RBM until this is satisfied\n",
    "            if abs(energies.item() - exact_energy) <= 0.0001:\n",
    "                print(\"Hidden\", n_hin)\n",
    "                print(\"Learning Creterion Met!\", energies.item())\n",
    "                condition = False\n",
    "                break\n",
    "                "
   ]
  },
  {
   "cell_type": "markdown",
   "metadata": {},
   "source": [
    "# Sub-Task 2"
   ]
  },
  {
   "cell_type": "code",
   "execution_count": null,
   "metadata": {},
   "outputs": [
    {
     "name": "stdout",
     "output_type": "stream",
     "text": [
      "Exact energy:  -4.1203519096\n",
      "\n",
      "###################################################\n",
      "Sample Size 100\n"
     ]
    }
   ],
   "source": [
    "cond = True\n",
    "#Limit to 1000 epochs\n",
    "epochs = 500\n",
    "#Load Entire Dataset \n",
    "num_samples = 0\n",
    "\n",
    "n_hin = 6\n",
    "\n",
    "exact_energy = -4.1203519096\n",
    "print(\"Exact energy: \",exact_energy)\n",
    "\n",
    "while(cond):\n",
    "    num_samples = num_samples + 100\n",
    "    rbm = RBM(n_vis, n_hin)\n",
    "    print(\"\")\n",
    "    print(\"###################################################\")\n",
    "    print(\"Sample Size\", num_samples)\n",
    "    \n",
    "    for e in range(1, epochs+1):\n",
    "        # do one epoch of training\n",
    "        rbm.train(training_data)   \n",
    "\n",
    "        # now generate samples and calculate the energy\n",
    "        if e % 100 == 0:\n",
    "            print(\"\\nEpoch: \", e)\n",
    "            print(\"Sampling...\")\n",
    "\n",
    "            init_state = torch.zeros(num_samples, n_vis)\n",
    "            RBM_samples = rbm.draw_samples(100, init_state)\n",
    "\n",
    "            print(\"Done sampling. Calculating energy...\") \n",
    "\n",
    "            energies = Rydberg_energy_calculator.energy(RBM_samples, rbm.wavefunction) \n",
    "            print(\"Energy from RBM samples: \", energies.item())\n",
    "            \n",
    "            print(\"Diff\", abs(energies.item() - exact_energy))\n",
    "            \n",
    "            #The Learning Criterion - Train the RBM until this is satisfied\n",
    "            if abs(energies.item() - exact_energy) <= 0.0001:\n",
    "                print(\"Sample\", num_samples)\n",
    "                print(\"Learning Creterion Met!\", energies.item())\n",
    "                cond = False\n",
    "                break"
   ]
  },
  {
   "cell_type": "code",
   "execution_count": null,
   "metadata": {},
   "outputs": [],
   "source": []
  },
  {
   "cell_type": "code",
   "execution_count": null,
   "metadata": {},
   "outputs": [],
   "source": []
  }
 ],
 "metadata": {
  "kernelspec": {
   "display_name": "Python 3",
   "language": "python",
   "name": "python3"
  },
  "language_info": {
   "codemirror_mode": {
    "name": "ipython",
    "version": 3
   },
   "file_extension": ".py",
   "mimetype": "text/x-python",
   "name": "python",
   "nbconvert_exporter": "python",
   "pygments_lexer": "ipython3",
   "version": "3.8.3"
  },
  "toc": {
   "base_numbering": 1,
   "nav_menu": {},
   "number_sections": true,
   "sideBar": true,
   "skip_h1_title": false,
   "title_cell": "Table of Contents",
   "title_sidebar": "Contents",
   "toc_cell": false,
   "toc_position": {},
   "toc_section_display": true,
   "toc_window_display": false
  },
  "varInspector": {
   "cols": {
    "lenName": 16,
    "lenType": 16,
    "lenVar": 40
   },
   "kernels_config": {
    "python": {
     "delete_cmd_postfix": "",
     "delete_cmd_prefix": "del ",
     "library": "var_list.py",
     "varRefreshCmd": "print(var_dic_list())"
    },
    "r": {
     "delete_cmd_postfix": ") ",
     "delete_cmd_prefix": "rm(",
     "library": "var_list.r",
     "varRefreshCmd": "cat(var_dic_list()) "
    }
   },
   "types_to_exclude": [
    "module",
    "function",
    "builtin_function_or_method",
    "instance",
    "_Feature"
   ],
   "window_display": false
  }
 },
 "nbformat": 4,
 "nbformat_minor": 2
}
