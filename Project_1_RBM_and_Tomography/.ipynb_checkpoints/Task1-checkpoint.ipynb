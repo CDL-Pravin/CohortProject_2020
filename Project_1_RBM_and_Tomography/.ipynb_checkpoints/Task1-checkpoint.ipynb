{
 "cells": [
  {
   "cell_type": "markdown",
   "metadata": {},
   "source": [
    "# Task #1 \n",
    "\n",
    "A template code for training an RBM on H$_2$ data for $r = 1.2$ is shown here. Modify this!\n",
    "\n",
    "Imports and loading in data:"
   ]
  },
  {
   "cell_type": "code",
   "execution_count": 25,
   "metadata": {
    "ExecuteTime": {
     "end_time": "2020-06-26T14:55:19.174279Z",
     "start_time": "2020-06-26T14:55:16.177972Z"
    }
   },
   "outputs": [
    {
     "name": "stdout",
     "output_type": "stream",
     "text": [
      "H2 energy for r = 1.2:  -1.0642022250418146\n",
      "<class 'torch.Tensor'>\n"
     ]
    }
   ],
   "source": [
    "import numpy as np\n",
    "import torch\n",
    "import matplotlib.pyplot as plt\n",
    "import os\n",
    "\n",
    "from RBM_helper import RBM\n",
    "\n",
    "import H2_energy_calculator\n",
    "\n",
    "# # training_data = torch.from_numpy(np.loadtxt(\"H2_data/R_1.2_samples.txt\"))\n",
    "# training_data = torch.from_numpy(np.loadtxt(\"H2_data/R_1.2_samples.txt\"))\n",
    "# coeff = np.loadtxt(\"H2_data/H2_coefficients.txt\")[20,:]\n",
    "\n",
    "# true_energy = H2_energy_calculator.energy_from_freq(training_data, coeff)\n",
    "# print(\"H2 energy for r = 1.2: \",true_energy)\n",
    "# print(type(training_data))\n",
    "\n"
   ]
  },
  {
   "cell_type": "markdown",
   "metadata": {},
   "source": [
    "Define the RBM:"
   ]
  },
  {
   "cell_type": "code",
   "execution_count": 2,
   "metadata": {
    "ExecuteTime": {
     "end_time": "2020-06-26T14:55:21.183670Z",
     "start_time": "2020-06-26T14:55:21.179123Z"
    }
   },
   "outputs": [],
   "source": [
    "n_vis = 2\n",
    "n_hin = 10\n",
    "\n",
    "rbm = RBM(n_vis, n_hin)"
   ]
  },
  {
   "cell_type": "markdown",
   "metadata": {},
   "source": [
    "Train the RBM:"
   ]
  },
  {
   "cell_type": "code",
   "execution_count": 6,
   "metadata": {
    "ExecuteTime": {
     "end_time": "2020-06-26T14:56:24.307961Z",
     "start_time": "2020-06-26T14:55:39.819468Z"
    }
   },
   "outputs": [],
   "source": [
    "def train_RBM( training_data): \n",
    "    \n",
    "    epochs = 200 # number of training steps\n",
    "    num_samples = 1000 # number of samples to generate from the RBM to calculate the H2 energy\n",
    "\n",
    "    true_energy = H2_energy_calculator.energy_from_freq(training_data, coeff)\n",
    "    print(\"True energy: \",true_energy)\n",
    "\n",
    "    for e in range(1, epochs+1):\n",
    "        # do one epoch of training\n",
    "        rbm.train(training_data)   \n",
    "\n",
    "        # now generate samples and calculate the energy\n",
    "        if e % 100 == 0:\n",
    "#             print(\"\\nEpoch: \", e)\n",
    "#             print(\"Sampling the RBM...\")\n",
    "\n",
    "            # For sampling the RBM, we need to do Gibbs sampling.\n",
    "            # Initialize the Gibbs sampling chain with init_state as defined below.\n",
    "            init_state = torch.zeros(num_samples, n_vis)\n",
    "            RBM_samples = rbm.draw_samples(15, init_state)\n",
    "\n",
    "#             print(\"Done sampling. Calculating energy...\")       \n",
    "\n",
    "            energies = H2_energy_calculator.energy(RBM_samples, coeff, rbm.wavefunction) \n",
    "#             print(\"Energy from RBM samples: \", energies.item())\n",
    "    return energies.item()"
   ]
  },
  {
   "cell_type": "code",
   "execution_count": 7,
   "metadata": {},
   "outputs": [
    {
     "name": "stdout",
     "output_type": "stream",
     "text": [
      "True energy:  -1.0497107493775149\n",
      "True energy:  -1.0324782127249015\n",
      "True energy:  -1.0362617443402724\n",
      "True energy:  -0.9724744744994698\n",
      "True energy:  -1.0272612255781348\n",
      "True energy:  -1.0638310134297058\n",
      "True energy:  -1.045890709404601\n",
      "True energy:  -1.0392850239621994\n",
      "True energy:  -1.046658951711928\n",
      "True energy:  -1.0285713264808696\n",
      "True energy:  -0.9901309142199367\n",
      "True energy:  -0.8706320496450434\n",
      "True energy:  -1.0550336434246872\n",
      "True energy:  -1.0609448171032052\n",
      "True energy:  -0.9006480965108701\n",
      "True energy:  -1.0597637205756967\n",
      "True energy:  -1.062763861747277\n",
      "True energy:  -0.8874596507187792\n",
      "True energy:  -0.9798311216602571\n",
      "True energy:  -0.9281284249929258\n",
      "True energy:  -0.8865891713144782\n",
      "True energy:  -1.0537947736069744\n",
      "True energy:  -1.0339439695134862\n",
      "True energy:  -0.9988361402323337\n",
      "True energy:  -0.9247568227883267\n",
      "True energy:  -1.05858094757703\n",
      "True energy:  -1.0408339191583378\n",
      "True energy:  -1.0531258395865126\n",
      "True energy:  -0.9078290367824813\n",
      "True energy:  -0.912841216005112\n",
      "True energy:  -0.9161563118436927\n",
      "True energy:  -1.0628704803822298\n",
      "True energy:  -1.0101180286069797\n",
      "True energy:  -0.9453367978774545\n",
      "True energy:  -1.0430990090273842\n",
      "True energy:  -0.8764884896622689\n",
      "True energy:  -0.8686928806257138\n",
      "True energy:  -1.0289787152870253\n",
      "True energy:  -0.868169806585124\n",
      "True energy:  -0.9707890932965086\n",
      "True energy:  -1.0585418149658092\n",
      "True energy:  -0.9590625522828007\n",
      "True energy:  -1.057236404388469\n",
      "True energy:  -1.0494348817130146\n",
      "True energy:  -0.9397402628548327\n",
      "True energy:  -1.0311415155381198\n",
      "True energy:  -1.0640336454496149\n",
      "True energy:  -1.0326783769893295\n",
      "True energy:  -1.0380608769339534\n",
      "True energy:  -1.0452519125171207\n",
      "True energy:  -1.0642022250418146\n",
      "True energy:  -1.0176683464200735\n",
      "True energy:  -0.8762670756779187\n",
      "True energy:  -1.061627926407983\n"
     ]
    }
   ],
   "source": [
    "# \n",
    "# load R_<r_value_samples.txt from H2_data folder\n",
    "# \n",
    "# evaluate true_energy on each training data, use it to plot E_bond(r)\n",
    "\n",
    "Ebond = {}\n",
    "directory = 'H2_data'\n",
    "for entry in os.scandir(directory):\n",
    "    if (entry.path.endswith(\"samples.txt\")):\n",
    "        training_data = torch.from_numpy(np.loadtxt(entry))\n",
    "        radius = entry.name.split(\"_\")[1]\n",
    "        Ebond[radius] = train_RBM(training_data)"
   ]
  },
  {
   "cell_type": "code",
   "execution_count": 24,
   "metadata": {},
   "outputs": [
    {
     "name": "stdout",
     "output_type": "stream",
     "text": [
      "<class 'list'>\n",
      "['0.2', '0.25', '0.3', '0.35', '0.4', '0.45', '0.5', '0.55', '0.6', '0.65', '0.7', '0.75', '0.8', '0.85', '0.9', '0.95', '1.0', '1.05', '1.1', '1.15', '1.2', '1.25', '1.3', '1.35', '1.4', '1.45', '1.5', '1.55', '1.6', '1.65', '1.7', '1.75', '1.8', '1.85', '1.9', '1.95', '2.0', '2.05', '2.1', '2.15', '2.2', '2.25', '2.3', '2.35', '2.4', '2.45', '2.5', '2.55', '2.6', '2.65', '2.7', '2.75', '2.8', '2.85']\n",
      "[-1.459685676287024, -1.5430463215323937, -0.9870189207586397, -1.466288996902072, -1.2516058308214726, -1.4934992715609958, -1.0473763250215515, -1.3813286462059424, -1.0086415404351783, -1.1333504740095537, -1.3750080798225233, -1.0865077449033789, -1.1050062665324956, -1.074281646577982, -0.9837085650101673, -1.0423449166156586, -1.104630538771072, -0.9398078697216035, -0.9882545016307119, -0.9809592573857215, -1.1138850898010493, -1.049378011211244, -1.0359576844027771, -1.0068679125666524, -0.9311654225219846, -0.9594213212300489, -0.9612229419849632, -0.9421027050613763, -0.943418005096734, -0.9347535304606198, -0.895294882838869, -0.934347760685929, -0.8859112714597209, -0.8970035956038416, -0.8774279728065418, -0.869944330634847, -0.8694303674811609, -0.8690172692543269, -0.8500281059170638, -0.8402712214833533, -0.8707483816066952, -0.8132364879398586, -0.8242813656917752, -0.8047510221050351, -0.8314527839170113, -0.8400691471005812, -0.81693379372063, -0.8235027903028433, -0.8128082731084189, -0.8428500184448786, -0.8567463588907239, -0.8301420723192539, -0.8065233313191615, -0.8133363380874319]\n"
     ]
    },
    {
     "data": {
      "image/png": "[encoded data removed]",
      "text/plain": [
       "<Figure size 432x288 with 1 Axes>"
      ]
     },
     "metadata": {
      "needs_background": "light"
     },
     "output_type": "display_data"
    }
   ],
   "source": [
    "Ebond = sorted(Ebond)\n",
    "x_values = [] # radii\n",
    "y_values = [] # Energy\n",
    "\n",
    "for i in range(len(Ebond)):\n",
    "    x_values.append(Ebond[i][0])\n",
    "    y_values.append(Ebond[i][1])\n",
    "\n",
    "# plot Ebont(r)\n",
    "print(x_values)\n",
    "print(y_values)\n",
    "plt.plot(x_values, y_values)\n",
    "plt.xlabel('r')\n",
    "plt.ylabel('Ebond')\n",
    "plt.title('Ebond(r)')\n",
    "plt.show()"
   ]
  },
  {
   "cell_type": "code",
   "execution_count": null,
   "metadata": {},
   "outputs": [],
   "source": []
  }
 ],
 "metadata": {
  "kernelspec": {
   "display_name": "Python 3",
   "language": "python",
   "name": "python3"
  },
  "language_info": {
   "codemirror_mode": {
    "name": "ipython",
    "version": 3
   },
   "file_extension": ".py",
   "mimetype": "text/x-python",
   "name": "python",
   "nbconvert_exporter": "python",
   "pygments_lexer": "ipython3",
   "version": "3.7.4"
  },
  "toc": {
   "base_numbering": 1,
   "nav_menu": {},
   "number_sections": true,
   "sideBar": true,
   "skip_h1_title": false,
   "title_cell": "Table of Contents",
   "title_sidebar": "Contents",
   "toc_cell": false,
   "toc_position": {},
   "toc_section_display": true,
   "toc_window_display": false
  },
  "varInspector": {
   "cols": {
    "lenName": 16,
    "lenType": 16,
    "lenVar": 40
   },
   "kernels_config": {
    "python": {
     "delete_cmd_postfix": "",
     "delete_cmd_prefix": "del ",
     "library": "var_list.py",
     "varRefreshCmd": "print(var_dic_list())"
    },
    "r": {
     "delete_cmd_postfix": ") ",
     "delete_cmd_prefix": "rm(",
     "library": "var_list.r",
     "varRefreshCmd": "cat(var_dic_list()) "
    }
   },
   "types_to_exclude": [
    "module",
    "function",
    "builtin_function_or_method",
    "instance",
    "_Feature"
   ],
   "window_display": false
  }
 },
 "nbformat": 4,
 "nbformat_minor": 2
}
