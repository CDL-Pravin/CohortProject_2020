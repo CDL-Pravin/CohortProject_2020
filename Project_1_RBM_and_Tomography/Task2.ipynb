{
 "cells": [
  {
   "cell_type": "markdown",
   "metadata": {},
   "source": [
    "# Task #2\n",
    "\n",
    "A template code for training an RBM on Rydberg atom data (the full dataset) is provided below. For the first part of this task (determining the minimum number of hidden units), start with 20 hidden units. \n",
    "\n",
    "Imports and loadining in data:"
   ]
  },
  {
   "cell_type": "code",
   "execution_count": 1,
   "metadata": {},
   "outputs": [],
   "source": [
    "import numpy as np\n",
    "import torch\n",
    "from RBM_helper import RBM\n",
    "from tqdm import tqdm\n",
    "import matplotlib.pyplot as plt\n",
    "import Rydberg_energy_calculator\n",
    "\n",
    "training_data = torch.from_numpy(np.loadtxt(\"Rydberg_data.txt\"))"
   ]
  },
  {
   "cell_type": "markdown",
   "metadata": {},
   "source": [
    "Define the RBM:"
   ]
  },
  {
   "cell_type": "code",
   "execution_count": 2,
   "metadata": {},
   "outputs": [],
   "source": [
    "def train_rbm(training_data,epochs,num_samples,n_vis,n_hin,N_draws=1000):\n",
    "    '''\n",
    "        Train a restricted Boltzmann Machine \n",
    "        \n",
    "        Args:\n",
    "            training_data: \n",
    "            epochs:\n",
    "            num_samples:\n",
    "            N_draws:\n",
    "        Returns:\n",
    "            Array: An N_draw array containing the energies  \n",
    "    '''\n",
    "    \n",
    "    # Instantiate the RBM\n",
    "    rbm = RBM(n_vis, n_hin)\n",
    "    \n",
    "    # Carry out the training over the defined number of epochs\n",
    "    for e in range(1, epochs+1):\n",
    "        # do one epoch of training\n",
    "        rbm.train(training_data)   \n",
    "\n",
    "    E_samples = np.zeros(N_draws)\n",
    "    \n",
    "    for k in tqdm(range(0,N_draws)):\n",
    "        init_state = torch.zeros(num_samples, n_vis)\n",
    "        RBM_samples = rbm.draw_samples(100, init_state)\n",
    "        energies = Rydberg_energy_calculator.energy(RBM_samples, rbm.wavefunction)\n",
    "        E_samples[k] = energies.item()\n",
    "    \n",
    "    \n",
    "    return E_samples\n",
    "\n",
    "def confidence_interval(x):\n",
    "    '''\n",
    "    \n",
    "        Compute the 68% and 96% confidence inteval of a data set\n",
    "        \n",
    "        Args:\n",
    "            x: numpy array\n",
    "        Returns:\n",
    "            Tuple: array1,array2\n",
    "            \n",
    "            where array1 and array2 are each numpy arrays of length=3\n",
    "            array1 = [lower_68%_bound, median , upper_68%_bound]\n",
    "            array2 = [lower_96%_bound, median , upper_96%_bound]\n",
    "    '''\n",
    "    x_68 = np.percentile(x, [16,50,84])\n",
    "    x_96 = np.percentile(x, [2,50,98])\n",
    "    \n",
    "    return x_68,x_96"
   ]
  },
  {
   "cell_type": "code",
   "execution_count": 20,
   "metadata": {},
   "outputs": [
    {
     "name": "stdout",
     "output_type": "stream",
     "text": [
      "20000\n"
     ]
    }
   ],
   "source": [
    "print(training_data.shape[0])"
   ]
  },
  {
   "cell_type": "markdown",
   "metadata": {},
   "source": [
    "Train the RBM:"
   ]
  },
  {
   "cell_type": "code",
   "execution_count": 27,
   "metadata": {},
   "outputs": [
    {
     "name": "stderr",
     "output_type": "stream",
     "text": [
      "100%|██████████| 10/10 [00:06<00:00,  1.65it/s]\n"
     ]
    },
    {
     "name": "stdout",
     "output_type": "stream",
     "text": [
      "1 -4.120016989338227 -4.1203519096 0.000334920261773064\n"
     ]
    },
    {
     "name": "stderr",
     "output_type": "stream",
     "text": [
      "100%|██████████| 10/10 [00:07<00:00,  1.28it/s]\n"
     ]
    },
    {
     "name": "stdout",
     "output_type": "stream",
     "text": [
      "16 -4.120050902517135 -4.1203519096 0.00030100708286529\n"
     ]
    },
    {
     "name": "stderr",
     "output_type": "stream",
     "text": [
      "100%|██████████| 10/10 [00:07<00:00,  1.39it/s]"
     ]
    },
    {
     "name": "stdout",
     "output_type": "stream",
     "text": [
      "31 -4.1198641713246955 -4.1203519096 0.00048773827530457226\n"
     ]
    },
    {
     "name": "stderr",
     "output_type": "stream",
     "text": [
      "\n"
     ]
    }
   ],
   "source": [
    "epochs = 1000\n",
    "num_samples = training_data.shape[0]\n",
    "exact_energy = -4.1203519096\n",
    "tol = 1e-4 # The desired tolerance level\n",
    "n_hid_max=10\n",
    "N_draws =50 # The number of samples to draw at the end for statistics \n",
    "\n",
    "n_hidden_array = []\n",
    "E_68_nhidden = []\n",
    "E_96_nhidden = []\n",
    "\n",
    "for nk in range(1,20,5):\n",
    "    n_hidden_array.append(nk)\n",
    "    n_training_data = training_data.shape[1]\n",
    "    n_hin = nk\n",
    "    E_samples = train_rbm(training_data,epochs,n_vis=n_training_data,n_hin=n_hin,num_samples=num_samples,N_draws=N_draws)\n",
    "    E_68,E_96 = confidence_interval(E_samples)\n",
    "    E_68_nhidden.append(E_68)\n",
    "    E_96_nhidden.append(E_96)\n",
    "    print(nk,E_68[1],exact_energy, abs(E_68[1]-exact_energy))"
   ]
  },
  {
   "cell_type": "code",
   "execution_count": 30,
   "metadata": {},
   "outputs": [
    {
     "name": "stdout",
     "output_type": "stream",
     "text": [
      "[False False False]\n",
      "====================================================================================================\n",
      "The minimum number of hidden units to reach tolerance level is:  16\n",
      "====================================================================================================\n"
     ]
    }
   ],
   "source": [
    "# Preprocess the results in order to generate the plot\n",
    "\n",
    "E_96_nhidden = np.array(E_96_nhidden)\n",
    "E_68_nhidden = np.array(E_68_nhidden)\n",
    "\n",
    "delta_E_med =  abs(E_96_nhidden[:,1]-exact_energy) #/tol\n",
    "delta_E_lower_68 =  abs(E_68_nhidden[:,0]-exact_energy)#/tol\n",
    "delta_E_upper_68 =  abs(E_68_nhidden[:,2]-exact_energy)#/tol\n",
    "delta_E_lower_96 =  abs(E_96_nhidden[:,0]-exact_energy)#/tol\n",
    "delta_E_upper_96 =  abs(E_96_nhidden[:,2]-exact_energy)#/tol\n",
    "\n",
    "# Determine the number of hidden nodes required for uncertainty band to overlap tolerance level\n",
    "n_hidden_tol_indx = np.argmin(delta_E_med)\n",
    "n_hidden_tol = n_hidden_array[n_hidden_tol_indx]\n",
    "\n",
    "\n",
    "print('='*100)\n",
    "print('The minimum number of hidden units to reach tolerance level is: ',n_hidden_tol)\n",
    "print('='*100)"
   ]
  },
  {
   "cell_type": "code",
   "execution_count": 31,
   "metadata": {},
   "outputs": [
    {
     "data": {
      "image/png": "[encoded data removed]",
      "text/plain": [
       "<Figure size 1080x360 with 1 Axes>"
      ]
     },
     "metadata": {
      "needs_background": "light"
     },
     "output_type": "display_data"
    }
   ],
   "source": [
    "plt.figure(figsize=(15,5))\n",
    "plt.title(r'Number of hidden units vs $|\\Delta E |$',size=15)\n",
    "plt.plot(n_hidden_array,delta_E_med,label='median')\n",
    "plt.fill_between(n_hidden_array,delta_E_lower_68, delta_E_upper_68,color='blue',alpha='0.4',edgecolor='b')\n",
    "plt.fill_between(n_hidden_array,delta_E_lower_96, delta_E_upper_96,color='blue',alpha='0.2',edgecolor='b')\n",
    "plt.plot(n_hidden_array,tol*np.ones(len(n_hidden_array)),label='Tolerance level= '+str(tol))\n",
    "plt.vlines( n_hidden_array[n_hidden_tol_indx],ymin=0,ymax=tol*2,label='tolerance-reached')\n",
    "plt.xlabel('N-hidden units',size=15)\n",
    "plt.ylabel(r'$|\\Delta E|$ [eV]',size=15)\n",
    "plt.legend()\n",
    "plt.show()"
   ]
  },
  {
   "cell_type": "code",
   "execution_count": 6,
   "metadata": {},
   "outputs": [
    {
     "name": "stderr",
     "output_type": "stream",
     "text": [
      "100%|██████████| 100/100 [00:26<00:00,  3.64it/s]\n",
      "100%|██████████| 100/100 [02:12<00:00,  1.32s/it]\n",
      "100%|██████████| 100/100 [04:25<00:00,  2.71s/it]\n",
      "100%|██████████| 100/100 [07:00<00:00,  4.04s/it]\n"
     ]
    }
   ],
   "source": [
    "epochs = 10\n",
    "num_samples = training_data.shape[0]\n",
    "exact_energy = -4.1203519096\n",
    "tol = 1e-4 # The desired tolerance level\n",
    "n_hid_max=10\n",
    "N_draws =100 # The number of samples to draw at the end \n",
    "\n",
    "n_samples_array = []\n",
    "E_68_nsamples = []\n",
    "E_96_nsamples = []\n",
    "\n",
    "for nk in range(500,training_data.shape[0],5000):\n",
    "    n_samples_array.append(nk)\n",
    "    n_training_data = training_data.shape[1]\n",
    "    n_hin = n_hidden_tol # The optimal number of hidden layers\n",
    "    E_samples = train_rbm(training_data,epochs,n_vis=n_training_data,n_hin=n_hin,num_samples=nk,N_draws=N_draws)\n",
    "    E_68,E_96 = confidence_interval(E_samples)\n",
    "    E_68_nsamples.append(E_68)\n",
    "    E_96_nsamples.append(E_96)"
   ]
  },
  {
   "cell_type": "code",
   "execution_count": 7,
   "metadata": {},
   "outputs": [],
   "source": [
    "E_96_nsamples = np.array(E_96_nsamples)\n",
    "E_68_nsamples= np.array(E_68_nsamples)\n",
    "\n",
    "ddelta_E_med =  abs(E_96_nsamples[:,1]-exact_energy)\n",
    "ddelta_E_lower_68 =  abs(E_68_nsamples[:,0]-exact_energy)\n",
    "ddelta_E_upper_68 =  abs(E_68_nsamples[:,2]-exact_energy)\n",
    "ddelta_E_lower_96 =  abs(E_96_nsamples[:,0]-exact_energy)\n",
    "ddelta_E_upper_96 =  abs(E_96_nsamples[:,2]-exact_energy)"
   ]
  },
  {
   "cell_type": "code",
   "execution_count": 8,
   "metadata": {},
   "outputs": [
    {
     "data": {
      "image/png": "[encoded data removed]",
      "text/plain": [
       "<Figure size 1080x360 with 1 Axes>"
      ]
     },
     "metadata": {
      "needs_background": "light"
     },
     "output_type": "display_data"
    }
   ],
   "source": [
    "plt.figure(figsize=(15,5))\n",
    "plt.title(r'Number of Data samples vs $|\\Delta E |$',size=15)\n",
    "plt.plot(n_samples_array,ddelta_E_med,label='median')\n",
    "plt.fill_between(n_samples_array,ddelta_E_lower_68, ddelta_E_upper_68,color='blue',alpha='0.4',edgecolor='b')\n",
    "plt.fill_between(n_samples_array,ddelta_E_lower_96, ddelta_E_upper_96,color='blue',alpha='0.2',edgecolor='b')\n",
    "plt.plot(n_samples_array,tol*np.ones(len(n_samples_array)),label='Tolerance level= '+str(tol))\n",
    "plt.xlabel('Data samples',size=15)\n",
    "plt.ylabel(r'$|\\Delta E|$ [eV]',size=15)\n",
    "plt.legend()\n",
    "plt.show()\n"
   ]
  },
  {
   "cell_type": "code",
   "execution_count": null,
   "metadata": {},
   "outputs": [],
   "source": []
  }
 ],
 "metadata": {
  "kernelspec": {
   "display_name": "Python 3",
   "language": "python",
   "name": "python3"
  },
  "language_info": {
   "codemirror_mode": {
    "name": "ipython",
    "version": 3
   },
   "file_extension": ".py",
   "mimetype": "text/x-python",
   "name": "python",
   "nbconvert_exporter": "python",
   "pygments_lexer": "ipython3",
   "version": "3.7.3"
  },
  "toc": {
   "base_numbering": 1,
   "nav_menu": {},
   "number_sections": true,
   "sideBar": true,
   "skip_h1_title": false,
   "title_cell": "Table of Contents",
   "title_sidebar": "Contents",
   "toc_cell": false,
   "toc_position": {},
   "toc_section_display": true,
   "toc_window_display": false
  },
  "varInspector": {
   "cols": {
    "lenName": 16,
    "lenType": 16,
    "lenVar": 40
   },
   "kernels_config": {
    "python": {
     "delete_cmd_postfix": "",
     "delete_cmd_prefix": "del ",
     "library": "var_list.py",
     "varRefreshCmd": "print(var_dic_list())"
    },
    "r": {
     "delete_cmd_postfix": ") ",
     "delete_cmd_prefix": "rm(",
     "library": "var_list.r",
     "varRefreshCmd": "cat(var_dic_list()) "
    }
   },
   "types_to_exclude": [
    "module",
    "function",
    "builtin_function_or_method",
    "instance",
    "_Feature"
   ],
   "window_display": false
  }
 },
 "nbformat": 4,
 "nbformat_minor": 2
}
