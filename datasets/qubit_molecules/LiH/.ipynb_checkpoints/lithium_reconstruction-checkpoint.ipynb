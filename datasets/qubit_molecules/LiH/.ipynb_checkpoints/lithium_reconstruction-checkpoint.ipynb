{
 "cells": [
  {
   "cell_type": "markdown",
   "metadata": {},
   "source": [
    "# Qubit-data for Lithium Hydride"
   ]
  },
  {
   "cell_type": "code",
   "execution_count": 1,
   "metadata": {},
   "outputs": [],
   "source": [
    "import pickle\n",
    "from pylab import *\n",
    "import numpy as np\n",
    "import math as m\n",
    "from functools import reduce\n",
    "import matplotlib.pyplot as plt"
   ]
  },
  {
   "cell_type": "markdown",
   "metadata": {},
   "source": [
    "## Preliminaries"
   ]
  },
  {
   "cell_type": "markdown",
   "metadata": {},
   "source": [
    "The fermionic Hamiltonian in second quantization (with $M$ orbitals)\n",
    "\n",
    "$$ H = \\sum_{\\alpha,\\beta=1}^M t_{\\alpha\\beta}c^\\dagger_\\alpha c_\\beta \n",
    "+ \\frac{1}{2}\\sum_{\\alpha\\beta=1}^M\\sum_{\\gamma\\delta=1}^M u_{\\alpha\\beta\\gamma\\delta}c^\\dagger_\\alpha c^\\dagger_\\gamma c_\\delta c_\\beta$$\n",
    "\n",
    "is mapped into a qubit Hamiltonian in the form\n",
    "\n",
    "$$ H = \\sum_kc_kP_k $$\n",
    "\n",
    "where $c_k$ are interaction coefficients and $P_k$ are elements of the $N$-qubit Pauli group $\\mathcal{P}_N=\\{\\mathbb{1},X,Y,Z\\}^{\\otimes N}$.\n",
    "\n",
    "The interaction coefficients and the Pauli operators can be found in the `interaction.file` and the `pauli.file` respectively.\n",
    "\n",
    "Specifics:\n",
    "- Number of qubits: 4\n",
    "- Molecule geometry: bond distance\n",
    "- Fermionic basis: atomic STO-3G\n",
    "- Qubit mapping: spin-parity"
   ]
  },
  {
   "cell_type": "markdown",
   "metadata": {},
   "source": [
    "## Exact diagonalization"
   ]
  },
  {
   "cell_type": "code",
   "execution_count": 2,
   "metadata": {},
   "outputs": [],
   "source": [
    "# Identity \n",
    "I = np.asarray([[1.,0.],[0.,1.]])\n",
    "# Pauli X\n",
    "X = np.asarray([[0.,1.],[1.,0.]])\n",
    "# Pauli Y\n",
    "Y = np.asarray([[0.,-1j],[1j,0.]])\n",
    "# Pauli Z\n",
    "Z = np.asarray([[1.,0.],[0.,-1.]])"
   ]
  },
  {
   "cell_type": "code",
   "execution_count": 3,
   "metadata": {},
   "outputs": [],
   "source": [
    "def operatorfromstring(pauli_string):\n",
    "    \"\"\"\n",
    "    Generate a many-body operator from a list of single-qubit \n",
    "    pauli matrices.\n",
    "    ---------------------------------------------------------\n",
    "    Input    pauli_string: str , (ex: [X,Z,X,Y,...])\n",
    "    \n",
    "    Output   pauli_op: np.array, shape = [2**N,2**N]\n",
    "    \"\"\"\n",
    "    op_list = []\n",
    "    for k in range(len(pauli_string)):\n",
    "        if (pauli_string[k] == 'X'):\n",
    "            op_list.append(X)\n",
    "        elif (pauli_string[k] == 'Y'):\n",
    "            op_list.append(Y)\n",
    "        elif (pauli_string[k] == 'Z'):\n",
    "            op_list.append(Z)\n",
    "        else:\n",
    "            op_list.append(I)\n",
    "\n",
    "    return reduce(np.kron,op_list)\n",
    "\n",
    "def hamiltonian(pauli_list,interactions):\n",
    "    \"\"\"\n",
    "    Generate a many-body hamiltonian\n",
    "    ---------------------------------------------------------\n",
    "    Input    pauli_list: list of pauli strings\n",
    "             interactions: list of interaction strengths\n",
    "    \n",
    "    Output   hamiltonian: np.array, shape = [2**N,2**N]\n",
    "    \"\"\"\n",
    "    N = len(pauli_list[0])\n",
    "    hamiltonian = np.zeros((1<<N,1<<N),dtype=complex)\n",
    "    for i,pauli in enumerate(pauli_list):\n",
    "        hamiltonian += interactions[i]*operatorfromstring(pauli)\n",
    "    return hamiltonian\n",
    "\n",
    "def eigensolve(hamiltonian):\n",
    "    \"\"\"\n",
    "    Compute ground state energy and wavefunction\n",
    "    \"\"\"\n",
    "    (eigenvalues,eigenstates) = np.linalg.eigh(hamiltonian)\n",
    "    return eigenvalues[0],eigenstates[:,0]"
   ]
  },
  {
   "cell_type": "code",
   "execution_count": 4,
   "metadata": {},
   "outputs": [
    {
     "name": "stdout",
     "output_type": "stream",
     "text": [
      "Pauli: IIII  | Interaction: -8.022E+00\n",
      "Pauli: ZIII  | Interaction: -9.276E-02\n",
      "Pauli: XZII  | Interaction: -2.941E-03\n",
      "Pauli: XIII  | Interaction: 2.941E-03\n",
      "Pauli: ZZII  | Interaction: -2.119E-01\n",
      "Pauli: YYII  | Interaction: 7.428E-04\n",
      "Pauli: XXII  | Interaction: -7.428E-04\n",
      "Pauli: ZXII  | Interaction: 1.939E-02\n",
      "Pauli: IXII  | Interaction: 1.939E-02\n",
      "Pauli: IZII  | Interaction: 3.653E-01\n",
      "...\n"
     ]
    }
   ],
   "source": [
    "pauli_list   = np.load('paulis.file',allow_pickle=True)\n",
    "interactions = np.load('interactions.file',allow_pickle = True)\n",
    "for k in range(10):\n",
    "    print('Pauli:',pauli_list[k],' | Interaction: %.3E' % interactions[k])\n",
    "print('...')"
   ]
  },
  {
   "cell_type": "code",
   "execution_count": 5,
   "metadata": {},
   "outputs": [
    {
     "name": "stdout",
     "output_type": "stream",
     "text": [
      "Ground state energy: -8.9073963113\n",
      "\n",
      "Ground state wavefunction:\n",
      "\n",
      " [-4.96394908e-03+0.j  2.53269627e-16+0.j -5.76276175e-02+0.j\n",
      "  1.11651339e-01+0.j -3.26381702e-02+0.j  5.08356315e-16+0.j\n",
      "  3.54539651e-02+0.j -5.76276175e-02+0.j  1.38777878e-16+0.j\n",
      "  1.23592416e-25+0.j  5.01265465e-18+0.j -1.14084922e-17+0.j\n",
      " -9.88663405e-01+0.j -2.63778775e-17+0.j -3.26381702e-02+0.j\n",
      " -4.96394908e-03+0.j]\n"
     ]
    }
   ],
   "source": [
    "# Build the full Hamiltonian and get the ground state energy / wavefunction\n",
    "H = hamiltonian(pauli_list,interactions)\n",
    "E0,psi0 = eigensolve(H)\n",
    "print('Ground state energy: %.10f\\n' % E0 )\n",
    "print('Ground state wavefunction:\\n\\n',psi0)"
   ]
  },
  {
   "cell_type": "markdown",
   "metadata": {},
   "source": [
    " ## Neural-network reconstruction"
   ]
  },
  {
   "cell_type": "markdown",
   "metadata": {},
   "source": [
    "Quantum state reconstruction of the LiH ground state with a restricted Boltzmann machine, using the NetKet library.\n",
    "\n",
    "References:\n",
    "- _\"Machine learning quantum states in the NISQ era\"_ : review of quantum state reconstruction with restricted Boltzmann machines. https://arxiv.org/abs/1905.04312\n",
    "- _\"Precise measurement of quantum observables with neural-network estimators\"_ RBM reconstruction of molecular ground states. https://arxiv.org/abs/1910.07596\n",
    "- _\"NetKet: A Machine Learning Toolkit for Many-Body Quantum Systems\"_ Overview of the NetKet software library. https://arxiv.org/abs/1904.00031"
   ]
  },
  {
   "cell_type": "code",
   "execution_count": 6,
   "metadata": {},
   "outputs": [],
   "source": [
    "from mpi4py import MPI \n",
    "import netket as nk"
   ]
  },
  {
   "cell_type": "code",
   "execution_count": 7,
   "metadata": {},
   "outputs": [],
   "source": [
    "# Unitary matrices for the rotation in the X and Y bases\n",
    "rotationX = 1./(math.sqrt(2))*np.asarray([[1.,1.],[1.,-1.]])\n",
    "rotationY= 1./(math.sqrt(2))*np.asarray([[1.,-1j],[1.,1j]])\n",
    "\n",
    "def LoadData(N,hilbert,path_to_samples, path_to_bases):\n",
    "    training_samples = []\n",
    "    training_bases = []\n",
    "\n",
    "    tsamples = np.loadtxt(path_to_samples)\n",
    "    assert(N == tsamples.shape[1])\n",
    "    fin_bases = open(path_to_bases, 'r')\n",
    "    lines = fin_bases.readlines()\n",
    "\n",
    "    bases = []\n",
    "\n",
    "    for b in lines:\n",
    "        basis = \"\"\n",
    "        assert(len(b) == N + 1)\n",
    "        for j in range(N):\n",
    "            basis += b[j]\n",
    "        bases.append(basis)\n",
    "    index_list = sorted(range(len(bases)), key=lambda k: bases[k])\n",
    "    bases.sort()\n",
    "\n",
    "    for i in range(len(tsamples)):\n",
    "        training_samples.append(tsamples[index_list[i]].tolist())\n",
    "\n",
    "    rotations = []\n",
    "\n",
    "    tmp = ''\n",
    "    b_index = -1\n",
    "    for b in bases:\n",
    "        if (b != tmp):\n",
    "            tmp = b\n",
    "            localop = nk.operator.LocalOperator(hilbert, 1.0)\n",
    "\n",
    "            for j in range(N):\n",
    "                if (tmp[j] == 'X'):\n",
    "                    localop *= nk.operator.LocalOperator(hilbert, rotationX, [j])\n",
    "                if (tmp[j] == 'Y'):\n",
    "                    localop *= nk.operator.LocalOperator(hilbert, rotationY, [j])\n",
    "\n",
    "            rotations.append(localop)\n",
    "            b_index += 1\n",
    "        training_bases.append(b_index)\n",
    "\n",
    "    return tuple(rotations), np.asarray(training_samples), np.asarray(training_bases)\n",
    "\n",
    "def OperatorFromString(op_string):                                                \n",
    "    OpList = []                                                                   \n",
    "    Sites = []                                                                    \n",
    "    for k in range(len(op_string)):                                               \n",
    "        if (op_string[k] == 'X'):                                                 \n",
    "            OpList.append(X)                                                      \n",
    "            Sites.append(k)                                                       \n",
    "        elif (op_string[k] == 'Y'):                                               \n",
    "            OpList.append(Y)                                                      \n",
    "            Sites.append(k)                                                       \n",
    "        elif (op_string[k] == 'Z'):                                               \n",
    "            OpList.append(Z)                                                      \n",
    "            Sites.append(k)                                                       \n",
    "    return Sites,reduce(np.kron,OpList) \n",
    "\n",
    "def BuildHamiltonian(N,hilbert,pauli_path,interactions_path):                     \n",
    "    pauli = np.load(pauli_path,allow_pickle=True)                                 \n",
    "    interactions = np.load(interactions_path,allow_pickle=True)                   \n",
    "                                                                                  \n",
    "    hamiltonian = nk.operator.LocalOperator(hilbert, 0.0)                                                                                 \n",
    "    for h in range(0,len(pauli)):                                                                                           \n",
    "        flag = 0                                                                  \n",
    "        for j in range(N):                                                        \n",
    "            if (pauli[h][j]!='I'): flag = 1; break                                \n",
    "        if flag == 0:                                                             \n",
    "            hamiltonian += nk.operator.LocalOperator(hilbert,np.real(interactions[h]))\n",
    "        else:                                                                     \n",
    "            sites,operator = OperatorFromString(pauli[h])                         \n",
    "            h_term = interactions[h]*operator\n",
    "            hamiltonian += nk.operator.LocalOperator(hilbert,h_term,sites)        \n",
    "            \n",
    "    return hamiltonian "
   ]
  },
  {
   "cell_type": "code",
   "execution_count": 8,
   "metadata": {},
   "outputs": [],
   "source": [
    "N = 4          # Number of qubits\n",
    "ns = 100000    # Number of training samples\n",
    "lr = 0.01      # Learning rate\n",
    "M = 10000      # Number of samples for the negative CD phase\n",
    "bs = 1000      # Batch size\n",
    "epochs = 500   # Epochs\n",
    "\n",
    "samples_path = \"train_samples.txt\"\n",
    "bases_path = \"train_bases.txt\"\n",
    "pauli_path = \"paulis.file\"\n",
    "interactions_path = \"interactions.file\""
   ]
  },
  {
   "cell_type": "code",
   "execution_count": 9,
   "metadata": {},
   "outputs": [],
   "source": [
    "# Lattice\n",
    "graph = nk.graph.Hypercube(length=N, n_dim=1,pbc=False)\n",
    "# Hilbert space\n",
    "hilbert = nk.hilbert.Qubit(graph=graph)\n",
    "# NetKet Hamiltonian\n",
    "hamiltonian = BuildHamiltonian(N,hilbert,pauli_path,interactions_path)"
   ]
  },
  {
   "cell_type": "code",
   "execution_count": 10,
   "metadata": {},
   "outputs": [],
   "source": [
    "# Load training data\n",
    "rotations, tr_samples, tr_bases = LoadData(N,hilbert,samples_path, bases_path)\n",
    "if (ns > tr_samples.shape[0]):\n",
    "    \"Not enough training samples\"\n",
    "else:\n",
    "    training_samples = tr_samples[0:ns]\n",
    "    training_bases   = tr_bases[0:ns]"
   ]
  },
  {
   "cell_type": "code",
   "execution_count": 11,
   "metadata": {},
   "outputs": [],
   "source": [
    "# RBM wavefunction\n",
    "# ma = nk.machine.RbmSpinPhase(hilbert=hilbert, alpha=1)  # Real-weights RBM (amplitude + phase)\n",
    "ma = nk.machine.RbmSpin(hilbert=hilbert, alpha=1)        # Complex-weights RBM, alpha=num_hidden/N\n",
    "ma.init_random_parameters(seed=1234, sigma=0.01)"
   ]
  },
  {
   "cell_type": "code",
   "execution_count": 12,
   "metadata": {},
   "outputs": [],
   "source": [
    "# Sampler\n",
    "sa = nk.sampler.MetropolisLocal(machine=ma)\n",
    "\n",
    "# Optimizer + Stochastic Reconfiguration\n",
    "#op = nk.optimizer.Sgd(learning_rate=lr)\n",
    "op = nk.optimizer.RmsProp(learning_rate=lr,beta=0.9,epscut = 1.0e-6)\n",
    "sr = nk.optimizer.SR(diag_shift=0.1)"
   ]
  },
  {
   "cell_type": "code",
   "execution_count": 13,
   "metadata": {},
   "outputs": [
    {
     "name": "stderr",
     "output_type": "stream",
     "text": [
      "/Users/user/opt/anaconda3/lib/python3.7/site-packages/ipykernel_launcher.py:14: FutureWarning: Call to deprecated function 'add_observable'\n",
      "  \n"
     ]
    }
   ],
   "source": [
    "# Quantum state tomography object\n",
    "qst = nk.Qsr(\n",
    "    sampler=sa,\n",
    "    optimizer=op,\n",
    "    samples=training_samples,\n",
    "    rotations=rotations,\n",
    "    bases=training_bases,\n",
    "    n_samples=M,\n",
    "    n_samples_data=bs,\n",
    "    sr=sr,\n",
    "    #sr=None\n",
    ")\n",
    "# Measure the energy while training\n",
    "qst.add_observable(hamiltonian, \"Energy\")"
   ]
  },
  {
   "cell_type": "code",
   "execution_count": 14,
   "metadata": {},
   "outputs": [
    {
     "name": "stderr",
     "output_type": "stream",
     "text": [
      "/Users/user/opt/anaconda3/lib/python3.7/site-packages/ipykernel_launcher.py:10: FutureWarning: Call to deprecated function 'get_observable_stats'\n",
      "  # Remove the CWD from sys.path while we load stuff.\n"
     ]
    },
    {
     "name": "stdout",
     "output_type": "stream",
     "text": [
      "Epoch = 0   Overlap = 0.259903   observables={'Energy': (-7.972 - 0.000i) ± 0.012 [var=0.462, R=1.00190], '': None}\n"
     ]
    },
    {
     "name": "stderr",
     "output_type": "stream",
     "text": [
      "/Users/user/opt/anaconda3/lib/python3.7/site-packages/ipykernel_launcher.py:10: FutureWarning: Call to deprecated function 'get_observable_stats'\n",
      "  # Remove the CWD from sys.path while we load stuff.\n"
     ]
    },
    {
     "name": "stdout",
     "output_type": "stream",
     "text": [
      "Epoch = 10   Overlap = 0.320278   observables={'Energy': (-8.0218 + 0.0001i) ± 0.0064 [var=0.5191, R=0.99984], '': None}\n",
      "Epoch = 20   Overlap = 0.372760   observables={'Energy': (-8.0749 - 0.0002i) ± 0.0074 [var=0.5301, R=1.00003], '': None}\n",
      "Epoch = 30   Overlap = 0.436882   observables={'Energy': (-8.1427 + 0.0003i) ± 0.0068 [var=0.5292, R=0.99990], '': None}\n",
      "Epoch = 40   Overlap = 0.511383   observables={'Energy': (-8.242 - 0.001i) ± 0.010 [var=0.503, R=1.00080], '': None}\n",
      "Epoch = 50   Overlap = 0.595833   observables={'Energy': (-8.3294 + 0.0001i) ± 0.0079 [var=0.4797, R=1.00023], '': None}\n",
      "Epoch = 60   Overlap = 0.685978   observables={'Energy': (-8.4612 - 0.0006i) ± 0.0094 [var=0.3997, R=1.00096], '': None}\n",
      "Epoch = 70   Overlap = 0.769201   observables={'Energy': (-8.5607 + 0.0004i) ± 0.0086 [var=0.3221, R=1.00103], '': None}\n",
      "Epoch = 80   Overlap = 0.853787   observables={'Energy': (-8.6723 - 0.0003i) ± 0.0087 [var=0.2343, R=1.00181], '': None}\n",
      "Epoch = 90   Overlap = 0.915674   observables={'Energy': (-8.7851 - 0.0026i) ± 0.0072 [var=0.1179, R=1.00273], '': None}\n",
      "Epoch = 100   Overlap = 0.949670   observables={'Energy': (-8.803 + 0.007i) ± 0.016 [var=0.110, R=1.01840], '': None}\n",
      "Epoch = 110   Overlap = 0.968944   observables={'Energy': (-8.850 + 0.003i) ± 0.014 [var=0.055, R=1.02625], '': None}\n",
      "Epoch = 120   Overlap = 0.974910   observables={'Energy': (-8.8631 - 0.0027i) ± 0.0098 [var=0.0393, R=1.01837], '': None}\n",
      "Epoch = 130   Overlap = 0.975064   observables={'Energy': (-8.8679 - 0.0035i) ± 0.0093 [var=0.0298, R=1.02232], '': None}\n",
      "Epoch = 140   Overlap = 0.967595   observables={'Energy': (-8.859 - 0.009i) ± 0.016 [var=0.043, R=1.04333], '': None}\n",
      "Epoch = 150   Overlap = 0.982729   observables={'Energy': (-8.8881 - 0.0105i) ± 0.0050 [var=0.0100, R=1.01867], '': None}\n",
      "Epoch = 160   Overlap = 0.984611   observables={'Energy': (-8.8918 - 0.0102i) ± 0.0042 [var=0.0088, R=1.01509], '': None}\n",
      "Epoch = 170   Overlap = 0.984686   observables={'Energy': (-8.871 + 0.009i) ± 0.016 [var=0.033, R=1.05788], '': None}\n",
      "Epoch = 180   Overlap = 0.990842   observables={'Energy': (-8.8874 + 0.0071i) ± 0.0089 [var=0.0203, R=1.03004], '': None}\n",
      "Epoch = 190   Overlap = 0.986885   observables={'Energy': (-8.880 - 0.000i) ± 0.016 [var=0.024, R=1.07722], '': None}\n",
      "Epoch = 200   Overlap = 0.989355   observables={'Energy': (-8.8912 - 0.0022i) ± 0.0096 [var=0.0154, R=1.04622], '': None}\n",
      "Epoch = 210   Overlap = 0.993825   observables={'Energy': (-8.8921 + 0.0071i) ± 0.0075 [var=0.0133, R=1.03218], '': None}\n",
      "Epoch = 220   Overlap = 0.995536   observables={'Energy': (-8.895 + 0.011i) ± 0.010 [var=0.016, R=1.05029], '': None}\n",
      "Epoch = 230   Overlap = 0.996360   observables={'Energy': (-8.9033 - 0.0032i) ± 0.0018 [var=0.0028, R=1.00862], '': None}\n",
      "Epoch = 240   Overlap = 0.996851   observables={'Energy': (-8.9035 - 0.0028i) ± 0.0015 [var=0.0035, R=1.00408], '': None}\n",
      "Epoch = 250   Overlap = 0.996593   observables={'Energy': (-8.9056 - 0.0022i) ± 0.0022 [var=0.0030, R=1.01181], '': None}\n",
      "Epoch = 260   Overlap = 0.997760   observables={'Energy': (-8.9071 + 0.0024i) ± 0.0024 [var=0.0070, R=1.00582], '': None}\n",
      "Epoch = 270   Overlap = 0.996282   observables={'Energy': (-8.9048 - 0.0035i) ± 0.0025 [var=0.0034, R=1.01316], '': None}\n",
      "Epoch = 280   Overlap = 0.996441   observables={'Energy': (-8.9010 - 0.0002i) ± 0.0017 [var=0.0051, R=1.00350], '': None}\n",
      "Epoch = 290   Overlap = 0.997940   observables={'Energy': (-8.9020 + 0.0016i) ± 0.0029 [var=0.0046, R=1.01393], '': None}\n",
      "Epoch = 300   Overlap = 0.997508   observables={'Energy': (-8.9055 - 0.0021i) ± 0.0019 [var=0.0024, R=1.01159], '': None}\n",
      "Epoch = 310   Overlap = 0.996190   observables={'Energy': (-8.9035 + 0.0006i) ± 0.0020 [var=0.0038, R=1.00736], '': None}\n",
      "Epoch = 320   Overlap = 0.998692   observables={'Energy': (-8.9043 - 0.0000i) ± 0.0022 [var=0.0022, R=1.01659], '': None}\n",
      "Epoch = 330   Overlap = 0.998742   observables={'Energy': (-8.9051 - 0.0002i) ± 0.0013 [var=0.0021, R=1.00583], '': None}\n",
      "Epoch = 340   Overlap = 0.998683   observables={'Energy': (-8.9065 - 0.0002i) ± 0.0012 [var=0.0018, R=1.00532], '': None}\n",
      "Epoch = 350   Overlap = 0.998901   observables={'Energy': (-8.90497 + 0.00047i) ± 0.00080 [var=0.00235, R=1.00137], '': None}\n",
      "Epoch = 360   Overlap = 0.997451   observables={'Energy': (-8.9081 + 0.0021i) ± 0.0018 [var=0.0015, R=1.01735], '': None}\n",
      "Epoch = 370   Overlap = 0.998698   observables={'Energy': (-8.90610 - 0.00018i) ± 0.00031 [var=0.00093, R=1.00000], '': None}\n",
      "Epoch = 380   Overlap = 0.999188   observables={'Energy': (-8.9062 + 0.0010i) ± 0.0013 [var=0.0010, R=1.01269], '': None}\n",
      "Epoch = 390   Overlap = 0.999038   observables={'Energy': (-8.9063 - 0.0009i) ± 0.0014 [var=0.0016, R=1.00852], '': None}\n",
      "Epoch = 400   Overlap = 0.998654   observables={'Energy': (-8.9057 + 0.0007i) ± 0.0018 [var=0.0025, R=1.00952], '': None}\n",
      "Epoch = 410   Overlap = 0.999170   observables={'Energy': (-8.9053 + 0.0013i) ± 0.0013 [var=0.0023, R=1.00464], '': None}\n",
      "Epoch = 420   Overlap = 0.998626   observables={'Energy': (-8.9033 - 0.0004i) ± 0.0018 [var=0.0037, R=1.00638], '': None}\n",
      "Epoch = 430   Overlap = 0.999279   observables={'Energy': (-8.9048 - 0.0011i) ± 0.0023 [var=0.0011, R=1.03632], '': None}\n",
      "Epoch = 440   Overlap = 0.999058   observables={'Energy': (-8.9064 - 0.0012i) ± 0.0015 [var=0.0013, R=1.01372], '': None}\n",
      "Epoch = 450   Overlap = 0.998353   observables={'Energy': (-8.9078 + 0.0022i) ± 0.0029 [var=0.0040, R=1.01571], '': None}\n",
      "Epoch = 460   Overlap = 0.999144   observables={'Energy': (-8.90541 - 0.00006i) ± 0.00079 [var=0.00180, R=1.00197], '': None}\n",
      "Epoch = 470   Overlap = 0.999483   observables={'Energy': (-8.90678 + 0.00008i) ± 0.00064 [var=0.00054, R=1.00524], '': None}\n",
      "Epoch = 480   Overlap = 0.998868   observables={'Energy': (-8.90506 + 0.00088i) ± 0.00098 [var=0.00166, R=1.00379], '': None}\n",
      "Epoch = 490   Overlap = 0.999577   observables={'Energy': (-8.90685 + 0.00042i) ± 0.00059 [var=0.00033, R=1.00757], '': None}\n"
     ]
    }
   ],
   "source": [
    "# Training loop\n",
    "import re\n",
    "energy = []\n",
    "radii = []\n",
    "variance = []\n",
    "test = []\n",
    "\n",
    "for ep in qst.iter(epochs, 10):\n",
    "    # Get energy measurement\n",
    "    obs = qst.get_observable_stats()\n",
    "    \n",
    "    #===============\n",
    "    splited = str(obs['Energy']).split(\" \")\n",
    "    energy.append(splited[1][2:])\n",
    "    radii.append(splited[6][2:9])\n",
    "    variance.append(splited[5][5:11])\n",
    "    test.append(re.findall(r\"[-+]?\\d*\\.\\d+|\\d+\", str(obs['Energy'])))\n",
    "#     print(splited)\n",
    "    #==================\n",
    "    \n",
    "    # Compute fidelity with exact state\n",
    "    psima = ma.to_array()\n",
    "    overlap = np.abs(np.vdot(psima, psi0))\n",
    "    \n",
    "    print('Epoch = %d   ' % ep,end='')\n",
    "    print('Overlap = %.6f   '% overlap,end='')\n",
    "    print(\"observables={}\".format(obs))"
   ]
  },
  {
   "cell_type": "code",
   "execution_count": 15,
   "metadata": {},
   "outputs": [
    {
     "name": "stdout",
     "output_type": "stream",
     "text": [
      "x_val [1.0019, 0.99984, 1.00003, 0.9999, 1.0008, 1.00023, 1.00096, 1.00103, 1.00181, 1.00273, 1.0184, 1.02625, 1.01837, 1.02232, 1.04333, 1.01867, 1.01509, 1.05788, 1.03004, 1.07722, 1.04622, 1.03218, 1.05029, 1.00862, 1.00408, 1.01181, 1.00582, 1.01316, 1.0035, 1.01393, 1.01159, 1.00736, 1.01659, 1.00583, 1.00532, 1.00137, 1.01735, 1.0, 1.01269, 1.00852, 1.00952, 1.00464, 1.00638, 1.03632, 1.01372, 1.01571, 1.00197, 1.00524, 1.00379, 1.00757]\n",
      "y_val [-7.972, -8.0218, -8.0749, -8.1427, -8.242, -8.3294, -8.4612, -8.5607, -8.6723, -8.7851, -8.803, -8.85, -8.8631, -8.8679, -8.859, -8.8881, -8.8918, -8.871, -8.8874, -8.88, -8.8912, -8.8921, -8.895, -8.9033, -8.9035, -8.9056, -8.9071, -8.9048, -8.901, -8.902, -8.9055, -8.9035, -8.9043, -8.9051, -8.9065, -8.90497, -8.9081, -8.9061, -8.9062, -8.9063, -8.9057, -8.9053, -8.9033, -8.9048, -8.9064, -8.9078, -8.90541, -8.90678, -8.90506, -8.90685]\n"
     ]
    },
    {
     "data": {
      "image/png": "[encoded data removed]",
      "text/plain": [
       "<Figure size 432x288 with 1 Axes>"
      ]
     },
     "metadata": {
      "needs_background": "light"
     },
     "output_type": "display_data"
    }
   ],
   "source": [
    "# plot \n",
    "x_val = []\n",
    "y_val = []\n",
    "var = []\n",
    "\n",
    "for data in range(len(test)):\n",
    "    y_val.append(float(test[data][0]))\n",
    "    x_val.append(float(test[data][4]))\n",
    "    var.append(float(test[data][3]))\n",
    "    \n",
    "print(\"x_val\", x_val)\n",
    "print(\"y_val\", y_val)\n",
    "\n",
    "plt.plot(x_val, y_val,'ro')\n",
    "plt.xlabel('radii')\n",
    "plt.ylabel('energy')\n",
    "plt.title('Energy(radius)')\n",
    "plt.show()"
   ]
  },
  {
   "cell_type": "code",
   "execution_count": null,
   "metadata": {},
   "outputs": [],
   "source": []
  }
 ],
 "metadata": {
  "kernelspec": {
   "display_name": "Python 3",
   "language": "python",
   "name": "python3"
  },
  "language_info": {
   "codemirror_mode": {
    "name": "ipython",
    "version": 3
   },
   "file_extension": ".py",
   "mimetype": "text/x-python",
   "name": "python",
   "nbconvert_exporter": "python",
   "pygments_lexer": "ipython3",
   "version": "3.7.4"
  }
 },
 "nbformat": 4,
 "nbformat_minor": 2
}
