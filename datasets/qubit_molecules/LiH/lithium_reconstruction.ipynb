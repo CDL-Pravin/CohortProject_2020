{
 "cells": [
  {
   "cell_type": "markdown",
   "metadata": {},
   "source": [
    "# Qubit-data for Lithium Hydride"
   ]
  },
  {
   "cell_type": "code",
   "execution_count": 1,
   "metadata": {},
   "outputs": [],
   "source": [
    "import pickle\n",
    "from pylab import *\n",
    "import numpy as np\n",
    "import math as m\n",
    "from functools import reduce\n",
    "import matplotlib.pyplot as plt"
   ]
  },
  {
   "cell_type": "markdown",
   "metadata": {},
   "source": [
    "## Preliminaries"
   ]
  },
  {
   "cell_type": "markdown",
   "metadata": {},
   "source": [
    "The fermionic Hamiltonian in second quantization (with $M$ orbitals)\n",
    "\n",
    "$$ H = \\sum_{\\alpha,\\beta=1}^M t_{\\alpha\\beta}c^\\dagger_\\alpha c_\\beta \n",
    "+ \\frac{1}{2}\\sum_{\\alpha\\beta=1}^M\\sum_{\\gamma\\delta=1}^M u_{\\alpha\\beta\\gamma\\delta}c^\\dagger_\\alpha c^\\dagger_\\gamma c_\\delta c_\\beta$$\n",
    "\n",
    "is mapped into a qubit Hamiltonian in the form\n",
    "\n",
    "$$ H = \\sum_kc_kP_k $$\n",
    "\n",
    "where $c_k$ are interaction coefficients and $P_k$ are elements of the $N$-qubit Pauli group $\\mathcal{P}_N=\\{\\mathbb{1},X,Y,Z\\}^{\\otimes N}$.\n",
    "\n",
    "The interaction coefficients and the Pauli operators can be found in the `interaction.file` and the `pauli.file` respectively.\n",
    "\n",
    "Specifics:\n",
    "- Number of qubits: 4\n",
    "- Molecule geometry: bond distance\n",
    "- Fermionic basis: atomic STO-3G\n",
    "- Qubit mapping: spin-parity"
   ]
  },
  {
   "cell_type": "markdown",
   "metadata": {},
   "source": [
    "## Exact diagonalization"
   ]
  },
  {
   "cell_type": "code",
   "execution_count": 2,
   "metadata": {},
   "outputs": [],
   "source": [
    "# Identity \n",
    "I = np.asarray([[1.,0.],[0.,1.]])\n",
    "# Pauli X\n",
    "X = np.asarray([[0.,1.],[1.,0.]])\n",
    "# Pauli Y\n",
    "Y = np.asarray([[0.,-1j],[1j,0.]])\n",
    "# Pauli Z\n",
    "Z = np.asarray([[1.,0.],[0.,-1.]])"
   ]
  },
  {
   "cell_type": "code",
   "execution_count": 3,
   "metadata": {},
   "outputs": [],
   "source": [
    "def operatorfromstring(pauli_string):\n",
    "    \"\"\"\n",
    "    Generate a many-body operator from a list of single-qubit \n",
    "    pauli matrices.\n",
    "    ---------------------------------------------------------\n",
    "    Input    pauli_string: str , (ex: [X,Z,X,Y,...])\n",
    "    \n",
    "    Output   pauli_op: np.array, shape = [2**N,2**N]\n",
    "    \"\"\"\n",
    "    op_list = []\n",
    "    for k in range(len(pauli_string)):\n",
    "        if (pauli_string[k] == 'X'):\n",
    "            op_list.append(X)\n",
    "        elif (pauli_string[k] == 'Y'):\n",
    "            op_list.append(Y)\n",
    "        elif (pauli_string[k] == 'Z'):\n",
    "            op_list.append(Z)\n",
    "        else:\n",
    "            op_list.append(I)\n",
    "\n",
    "    return reduce(np.kron,op_list)\n",
    "\n",
    "def hamiltonian(pauli_list,interactions):\n",
    "    \"\"\"\n",
    "    Generate a many-body hamiltonian\n",
    "    ---------------------------------------------------------\n",
    "    Input    pauli_list: list of pauli strings\n",
    "             interactions: list of interaction strengths\n",
    "    \n",
    "    Output   hamiltonian: np.array, shape = [2**N,2**N]\n",
    "    \"\"\"\n",
    "    N = len(pauli_list[0])\n",
    "    hamiltonian = np.zeros((1<<N,1<<N),dtype=complex)\n",
    "    for i,pauli in enumerate(pauli_list):\n",
    "        hamiltonian += interactions[i]*operatorfromstring(pauli)\n",
    "    return hamiltonian\n",
    "\n",
    "def eigensolve(hamiltonian):\n",
    "    \"\"\"\n",
    "    Compute ground state energy and wavefunction\n",
    "    \"\"\"\n",
    "    (eigenvalues,eigenstates) = np.linalg.eigh(hamiltonian)\n",
    "    return eigenvalues[0],eigenstates[:,0]"
   ]
  },
  {
   "cell_type": "code",
   "execution_count": 4,
   "metadata": {},
   "outputs": [
    {
     "name": "stdout",
     "output_type": "stream",
     "text": [
      "Pauli: IIII  | Interaction: -8.022E+00\n",
      "Pauli: ZIII  | Interaction: -9.276E-02\n",
      "Pauli: XZII  | Interaction: -2.941E-03\n",
      "Pauli: XIII  | Interaction: 2.941E-03\n",
      "Pauli: ZZII  | Interaction: -2.119E-01\n",
      "Pauli: YYII  | Interaction: 7.428E-04\n",
      "Pauli: XXII  | Interaction: -7.428E-04\n",
      "Pauli: ZXII  | Interaction: 1.939E-02\n",
      "Pauli: IXII  | Interaction: 1.939E-02\n",
      "Pauli: IZII  | Interaction: 3.653E-01\n",
      "...\n"
     ]
    }
   ],
   "source": [
    "pauli_list   = np.load('paulis.file',allow_pickle=True)\n",
    "interactions = np.load('interactions.file',allow_pickle = True)\n",
    "for k in range(10):\n",
    "    print('Pauli:',pauli_list[k],' | Interaction: %.3E' % interactions[k])\n",
    "print('...')"
   ]
  },
  {
   "cell_type": "code",
   "execution_count": 5,
   "metadata": {},
   "outputs": [
    {
     "name": "stdout",
     "output_type": "stream",
     "text": [
      "Ground state energy: -8.9073963113\n",
      "\n",
      "Ground state wavefunction:\n",
      "\n",
      " [-4.96394908e-03+0.j  2.53269627e-16+0.j -5.76276175e-02+0.j\n",
      "  1.11651339e-01+0.j -3.26381702e-02+0.j  5.08356315e-16+0.j\n",
      "  3.54539651e-02+0.j -5.76276175e-02+0.j  1.38777878e-16+0.j\n",
      "  1.23592416e-25+0.j  5.01265465e-18+0.j -1.14084922e-17+0.j\n",
      " -9.88663405e-01+0.j -2.63778775e-17+0.j -3.26381702e-02+0.j\n",
      " -4.96394908e-03+0.j]\n"
     ]
    }
   ],
   "source": [
    "# Build the full Hamiltonian and get the ground state energy / wavefunction\n",
    "H = hamiltonian(pauli_list,interactions)\n",
    "E0,psi0 = eigensolve(H)\n",
    "print('Ground state energy: %.10f\\n' % E0 )\n",
    "print('Ground state wavefunction:\\n\\n',psi0)"
   ]
  },
  {
   "cell_type": "markdown",
   "metadata": {},
   "source": [
    " ## Neural-network reconstruction"
   ]
  },
  {
   "cell_type": "markdown",
   "metadata": {},
   "source": [
    "Quantum state reconstruction of the LiH ground state with a restricted Boltzmann machine, using the NetKet library.\n",
    "\n",
    "References:\n",
    "- _\"Machine learning quantum states in the NISQ era\"_ : review of quantum state reconstruction with restricted Boltzmann machines. https://arxiv.org/abs/1905.04312\n",
    "- _\"Precise measurement of quantum observables with neural-network estimators\"_ RBM reconstruction of molecular ground states. https://arxiv.org/abs/1910.07596\n",
    "- _\"NetKet: A Machine Learning Toolkit for Many-Body Quantum Systems\"_ Overview of the NetKet software library. https://arxiv.org/abs/1904.00031"
   ]
  },
  {
   "cell_type": "code",
   "execution_count": 6,
   "metadata": {},
   "outputs": [],
   "source": [
    "from mpi4py import MPI \n",
    "import netket as nk"
   ]
  },
  {
   "cell_type": "code",
   "execution_count": 7,
   "metadata": {},
   "outputs": [],
   "source": [
    "# Unitary matrices for the rotation in the X and Y bases\n",
    "rotationX = 1./(math.sqrt(2))*np.asarray([[1.,1.],[1.,-1.]])\n",
    "rotationY= 1./(math.sqrt(2))*np.asarray([[1.,-1j],[1.,1j]])\n",
    "\n",
    "def LoadData(N,hilbert,path_to_samples, path_to_bases):\n",
    "    training_samples = []\n",
    "    training_bases = []\n",
    "\n",
    "    tsamples = np.loadtxt(path_to_samples)\n",
    "    assert(N == tsamples.shape[1])\n",
    "    fin_bases = open(path_to_bases, 'r')\n",
    "    lines = fin_bases.readlines()\n",
    "\n",
    "    bases = []\n",
    "\n",
    "    for b in lines:\n",
    "        basis = \"\"\n",
    "        assert(len(b) == N + 1)\n",
    "        for j in range(N):\n",
    "            basis += b[j]\n",
    "        bases.append(basis)\n",
    "    index_list = sorted(range(len(bases)), key=lambda k: bases[k])\n",
    "    bases.sort()\n",
    "\n",
    "    for i in range(len(tsamples)):\n",
    "        training_samples.append(tsamples[index_list[i]].tolist())\n",
    "\n",
    "    rotations = []\n",
    "\n",
    "    tmp = ''\n",
    "    b_index = -1\n",
    "    for b in bases:\n",
    "        if (b != tmp):\n",
    "            tmp = b\n",
    "            localop = nk.operator.LocalOperator(hilbert, 1.0)\n",
    "\n",
    "            for j in range(N):\n",
    "                if (tmp[j] == 'X'):\n",
    "                    localop *= nk.operator.LocalOperator(hilbert, rotationX, [j])\n",
    "                if (tmp[j] == 'Y'):\n",
    "                    localop *= nk.operator.LocalOperator(hilbert, rotationY, [j])\n",
    "\n",
    "            rotations.append(localop)\n",
    "            b_index += 1\n",
    "        training_bases.append(b_index)\n",
    "\n",
    "    return tuple(rotations), np.asarray(training_samples), np.asarray(training_bases)\n",
    "\n",
    "def OperatorFromString(op_string):                                                \n",
    "    OpList = []                                                                   \n",
    "    Sites = []                                                                    \n",
    "    for k in range(len(op_string)):                                               \n",
    "        if (op_string[k] == 'X'):                                                 \n",
    "            OpList.append(X)                                                      \n",
    "            Sites.append(k)                                                       \n",
    "        elif (op_string[k] == 'Y'):                                               \n",
    "            OpList.append(Y)                                                      \n",
    "            Sites.append(k)                                                       \n",
    "        elif (op_string[k] == 'Z'):                                               \n",
    "            OpList.append(Z)                                                      \n",
    "            Sites.append(k)                                                       \n",
    "    return Sites,reduce(np.kron,OpList) \n",
    "\n",
    "def BuildHamiltonian(N,hilbert,pauli_path,interactions_path):                     \n",
    "    pauli = np.load(pauli_path,allow_pickle=True)                                 \n",
    "    interactions = np.load(interactions_path,allow_pickle=True)                   \n",
    "                                                                                  \n",
    "    hamiltonian = nk.operator.LocalOperator(hilbert, 0.0)                                                                                 \n",
    "    for h in range(0,len(pauli)):                                                                                           \n",
    "        flag = 0                                                                  \n",
    "        for j in range(N):                                                        \n",
    "            if (pauli[h][j]!='I'): flag = 1; break                                \n",
    "        if flag == 0:                                                             \n",
    "            hamiltonian += nk.operator.LocalOperator(hilbert,np.real(interactions[h]))\n",
    "        else:                                                                     \n",
    "            sites,operator = OperatorFromString(pauli[h])                         \n",
    "            h_term = interactions[h]*operator\n",
    "            hamiltonian += nk.operator.LocalOperator(hilbert,h_term,sites)        \n",
    "            \n",
    "    return hamiltonian "
   ]
  },
  {
   "cell_type": "code",
   "execution_count": 8,
   "metadata": {},
   "outputs": [],
   "source": [
    "N = 4          # Number of qubits\n",
    "ns = 100000    # Number of training samples\n",
    "lr = 0.01      # Learning rate\n",
    "M = 10000      # Number of samples for the negative CD phase\n",
    "bs = 1000      # Batch size\n",
    "epochs = 500   # Epochs\n",
    "\n",
    "samples_path = \"train_samples.txt\"\n",
    "bases_path = \"train_bases.txt\"\n",
    "pauli_path = \"paulis.file\"\n",
    "interactions_path = \"interactions.file\""
   ]
  },
  {
   "cell_type": "code",
   "execution_count": 9,
   "metadata": {},
   "outputs": [],
   "source": [
    "# Lattice\n",
    "graph = nk.graph.Hypercube(length=N, n_dim=1,pbc=False)\n",
    "# Hilbert space\n",
    "hilbert = nk.hilbert.Qubit(graph=graph)\n",
    "# NetKet Hamiltonian\n",
    "hamiltonian = BuildHamiltonian(N,hilbert,pauli_path,interactions_path)"
   ]
  },
  {
   "cell_type": "code",
   "execution_count": 10,
   "metadata": {},
   "outputs": [],
   "source": [
    "# Load training data\n",
    "rotations, tr_samples, tr_bases = LoadData(N,hilbert,samples_path, bases_path)\n",
    "if (ns > tr_samples.shape[0]):\n",
    "    \"Not enough training samples\"\n",
    "else:\n",
    "    training_samples = tr_samples[0:ns]\n",
    "    training_bases   = tr_bases[0:ns]"
   ]
  },
  {
   "cell_type": "code",
   "execution_count": 64,
   "metadata": {},
   "outputs": [],
   "source": [
    "# RBM wavefunction\n",
    "ma = nk.machine.RbmSpinPhase(hilbert=hilbert, alpha=1)  # Real-weights RBM (amplitude + phase)\n",
    "# ma = nk.machine.RbmSpin(hilbert=hilbert, alpha=1)        # Complex-weights RBM, alpha=num_hidden/N\n",
    "ma.init_random_parameters(seed=1234, sigma=0.01)"
   ]
  },
  {
   "cell_type": "code",
   "execution_count": 65,
   "metadata": {},
   "outputs": [],
   "source": [
    "# Sampler\n",
    "sa = nk.sampler.MetropolisLocal(machine=ma)\n",
    "\n",
    "# Optimizer + Stochastic Reconfiguration\n",
    "#op = nk.optimizer.Sgd(learning_rate=lr)\n",
    "op = nk.optimizer.RmsProp(learning_rate=lr,beta=0.9,epscut = 1.0e-6)\n",
    "sr = nk.optimizer.SR(diag_shift=0.1)"
   ]
  },
  {
   "cell_type": "code",
   "execution_count": 66,
   "metadata": {},
   "outputs": [
    {
     "name": "stderr",
     "output_type": "stream",
     "text": [
      "/Users/user/opt/anaconda3/lib/python3.7/site-packages/ipykernel_launcher.py:14: FutureWarning: Call to deprecated function 'add_observable'\n",
      "  \n"
     ]
    }
   ],
   "source": [
    "# Quantum state tomography object\n",
    "qst = nk.Qsr(\n",
    "    sampler=sa,\n",
    "    optimizer=op,\n",
    "    samples=training_samples,\n",
    "    rotations=rotations,\n",
    "    bases=training_bases,\n",
    "    n_samples=M,\n",
    "    n_samples_data=bs,\n",
    "    sr=sr,\n",
    "    #sr=None\n",
    ")\n",
    "# Measure the energy while training\n",
    "qst.add_observable(hamiltonian, \"Energy\")"
   ]
  },
  {
   "cell_type": "code",
   "execution_count": 67,
   "metadata": {},
   "outputs": [
    {
     "name": "stderr",
     "output_type": "stream",
     "text": [
      "/Users/user/opt/anaconda3/lib/python3.7/site-packages/ipykernel_launcher.py:10: FutureWarning: Call to deprecated function 'get_observable_stats'\n",
      "  # Remove the CWD from sys.path while we load stuff.\n"
     ]
    },
    {
     "name": "stdout",
     "output_type": "stream",
     "text": [
      "Epoch = 0   Overlap = 0.259966   observables={'Energy': (-7.995 + 0.000i) ± 0.011 [var=0.448, R=1.00120], '': None}\n",
      "Epoch = 10   Overlap = 0.338576   observables={'Energy': (-8.0431 + 0.0001i) ± 0.0066 [var=0.5091, R=0.99989], '': None}\n",
      "Epoch = 20   Overlap = 0.387590   observables={'Energy': (-8.0689 + 0.0001i) ± 0.0050 [var=0.5510, R=0.99956], '': None}\n",
      "Epoch = 30   Overlap = 0.440196   observables={'Energy': (-8.1082 - 0.0003i) ± 0.0067 [var=0.5431, R=0.99987], '': None}\n",
      "Epoch = 40   Overlap = 0.489161   observables={'Energy': (-8.1603 - 0.0000i) ± 0.0086 [var=0.5200, R=1.00033], '': None}\n",
      "Epoch = 50   Overlap = 0.535597   observables={'Energy': (-8.2165 + 0.0004i) ± 0.0081 [var=0.5003, R=1.00025], '': None}\n",
      "Epoch = 60   Overlap = 0.598019   observables={'Energy': (-8.298 - 0.001i) ± 0.010 [var=0.448, R=1.00107], '': None}\n",
      "Epoch = 70   Overlap = 0.659373   observables={'Energy': (-8.384 + 0.001i) ± 0.012 [var=0.407, R=1.00213], '': None}\n",
      "Epoch = 80   Overlap = 0.714323   observables={'Energy': (-8.454 + 0.002i) ± 0.013 [var=0.364, R=1.00265], '': None}\n",
      "Epoch = 90   Overlap = 0.766452   observables={'Energy': (-8.5260 + 0.0015i) ± 0.0092 [var=0.3120, R=1.00137], '': None}\n",
      "Epoch = 100   Overlap = 0.817619   observables={'Energy': (-8.606 + 0.001i) ± 0.011 [var=0.270, R=1.00294], '': None}\n",
      "Epoch = 110   Overlap = 0.869022   observables={'Energy': (-8.6933 + 0.0008i) ± 0.0099 [var=0.1908, R=1.00329], '': None}\n",
      "Epoch = 120   Overlap = 0.893292   observables={'Energy': (-8.7258 + 0.0013i) ± 0.0086 [var=0.1709, R=1.00265], '': None}\n",
      "Epoch = 130   Overlap = 0.926250   observables={'Energy': (-8.8055 - 0.0031i) ± 0.0055 [var=0.0890, R=1.00190], '': None}\n",
      "Epoch = 140   Overlap = 0.940465   observables={'Energy': (-8.8128 + 0.0002i) ± 0.0077 [var=0.0910, R=1.00443], '': None}\n",
      "Epoch = 150   Overlap = 0.960022   observables={'Energy': (-8.8500 - 0.0015i) ± 0.0051 [var=0.0478, R=1.00351], '': None}\n",
      "Epoch = 160   Overlap = 0.968071   observables={'Energy': (-8.8605 - 0.0017i) ± 0.0039 [var=0.0458, R=1.00186], '': None}\n",
      "Epoch = 170   Overlap = 0.975706   observables={'Energy': (-8.8745 - 0.0016i) ± 0.0030 [var=0.0283, R=1.00166], '': None}\n",
      "Epoch = 180   Overlap = 0.980915   observables={'Energy': (-8.8768 + 0.0016i) ± 0.0038 [var=0.0295, R=1.00302], '': None}\n",
      "Epoch = 190   Overlap = 0.985078   observables={'Energy': (-8.8852 + 0.0001i) ± 0.0033 [var=0.0190, R=1.00379], '': None}\n",
      "Epoch = 200   Overlap = 0.986155   observables={'Energy': (-8.8921 - 0.0054i) ± 0.0026 [var=0.0124, R=1.00343], '': None}\n",
      "Epoch = 210   Overlap = 0.988292   observables={'Energy': (-8.8880 + 0.0001i) ± 0.0040 [var=0.0169, R=1.00685], '': None}\n",
      "Epoch = 220   Overlap = 0.990927   observables={'Energy': (-8.8885 + 0.0045i) ± 0.0048 [var=0.0164, R=1.01043], '': None}\n",
      "Epoch = 230   Overlap = 0.991733   observables={'Energy': (-8.8968 - 0.0031i) ± 0.0028 [var=0.0083, R=1.00673], '': None}\n",
      "Epoch = 240   Overlap = 0.992066   observables={'Energy': (-8.8922 + 0.0026i) ± 0.0086 [var=0.0113, R=1.05054], '': None}\n",
      "Epoch = 250   Overlap = 0.993008   observables={'Energy': (-8.8939 + 0.0026i) ± 0.0030 [var=0.0119, R=1.00513], '': None}\n",
      "Epoch = 260   Overlap = 0.993870   observables={'Energy': (-8.8964 - 0.0009i) ± 0.0029 [var=0.0397, R=1.00085], '': None}\n",
      "Epoch = 270   Overlap = 0.993896   observables={'Energy': (-8.8962 + 0.0028i) ± 0.0035 [var=0.0092, R=1.01003], '': None}\n",
      "Epoch = 280   Overlap = 0.993000   observables={'Energy': (-8.8970 + 0.0002i) ± 0.0066 [var=0.0071, R=1.04731], '': None}\n",
      "Epoch = 290   Overlap = 0.994138   observables={'Energy': (-8.8948 + 0.0083i) ± 0.0045 [var=0.0114, R=1.01318], '': None}\n",
      "Epoch = 300   Overlap = 0.994593   observables={'Energy': (-8.8914 + 0.0084i) ± 0.0064 [var=0.0104, R=1.03014], '': None}\n",
      "Epoch = 310   Overlap = 0.994608   observables={'Energy': (-8.8933 + 0.0036i) ± 0.0076 [var=0.0089, R=1.04945], '': None}\n",
      "Epoch = 320   Overlap = 0.994674   observables={'Energy': (-8.8963 + 0.0037i) ± 0.0072 [var=0.0066, R=1.06094], '': None}\n",
      "Epoch = 330   Overlap = 0.995521   observables={'Energy': (-8.8928 + 0.0050i) ± 0.0048 [var=0.0104, R=1.01676], '': None}\n",
      "Epoch = 340   Overlap = 0.995144   observables={'Energy': (-8.8994 + 0.0003i) ± 0.0068 [var=0.0054, R=1.06511], '': None}\n",
      "Epoch = 350   Overlap = 0.994433   observables={'Energy': (-8.9051 - 0.0006i) ± 0.0046 [var=0.0037, R=1.04483], '': None}\n",
      "Epoch = 360   Overlap = 0.996291   observables={'Energy': (-8.9058 - 0.0004i) ± 0.0012 [var=0.0008, R=1.01415], '': None}\n",
      "Epoch = 370   Overlap = 0.995790   observables={'Energy': (-8.9011 + 0.0001i) ± 0.0057 [var=0.0033, R=1.07456], '': None}\n",
      "Epoch = 380   Overlap = 0.995514   observables={'Energy': (-8.8950 + 0.0022i) ± 0.0090 [var=0.0056, R=1.10936], '': None}\n",
      "Epoch = 390   Overlap = 0.996030   observables={'Energy': (-8.90645 - 0.00342i) ± 0.00030 [var=0.00076, R=1.00016], '': None}\n",
      "Epoch = 400   Overlap = 0.996312   observables={'Energy': (-8.9010 + 0.0014i) ± 0.0059 [var=0.0025, R=1.10322], '': None}\n",
      "Epoch = 410   Overlap = 0.996406   observables={'Energy': (-8.9043 - 0.0004i) ± 0.0037 [var=0.0024, R=1.04488], '': None}\n",
      "Epoch = 420   Overlap = 0.995076   observables={'Energy': (-8.874 + 0.003i) ± 0.024 [var=0.006, R=1.59448], '': None}\n",
      "Epoch = 430   Overlap = 0.995445   observables={'Energy': (-8.91028 + 0.00075i) ± 0.00059 [var=0.00125, R=1.00147], '': None}\n",
      "Epoch = 440   Overlap = 0.993948   observables={'Energy': (-8.887 - 0.002i) ± 0.026 [var=0.002, R=2.71868], '': None}\n",
      "Epoch = 450   Overlap = 0.994821   observables={'Energy': (-8.883 - 0.003i) ± 0.017 [var=0.011, R=1.18824], '': None}\n",
      "Epoch = 460   Overlap = 0.993356   observables={'Energy': (-8.91228 + 0.00769i) ± 0.00010 [var=0.00012, R=0.99987], '': None}\n",
      "Epoch = 470   Overlap = 0.903123   observables={'Energy': (-8.877 + 0.038i) ± 0.059 [var=0.001, R=6.88636], '': None}\n",
      "Epoch = 480   Overlap = 0.975598   observables={'Energy': (-8.806 - 0.029i) ± 0.076 [var=0.002, R=7.00118], '': None}\n",
      "Epoch = 490   Overlap = 0.982201   observables={'Energy': (-8.90512 + 0.02183i) ± 0.00030 [var=0.00043, R=1.00090], '': None}\n"
     ]
    }
   ],
   "source": [
    "# Training loop\n",
    "import re\n",
    "energy = []\n",
    "radii = []\n",
    "variance = []\n",
    "test = []\n",
    "\n",
    "for ep in qst.iter(epochs, 10):\n",
    "    # Get energy measurement\n",
    "    obs = qst.get_observable_stats()\n",
    "    \n",
    "    #===============\n",
    "    splited = str(obs['Energy']).split(\" \")\n",
    "    energy.append(splited[1][2:])\n",
    "    radii.append(splited[6][2:9])\n",
    "    variance.append(splited[5][5:11])\n",
    "    test.append(re.findall(r\"[-+]?\\d*\\.\\d+|\\d+\", str(obs['Energy'])))\n",
    "#     print(splited)\n",
    "    #==================\n",
    "    \n",
    "    # Compute fidelity with exact state\n",
    "    psima = ma.to_array()\n",
    "    overlap = np.abs(np.vdot(psima, psi0))\n",
    "    \n",
    "    fidelities_temp.append(overlap)\n",
    "    \n",
    "    print('Epoch = %d   ' % ep,end='')\n",
    "    print('Overlap = %.6f   '% overlap,end='')\n",
    "    print(\"observables={}\".format(obs))"
   ]
  },
  {
   "cell_type": "code",
   "execution_count": 58,
   "metadata": {},
   "outputs": [
    {
     "name": "stdout",
     "output_type": "stream",
     "text": [
      "[['-8.9068', '0.0003', '0.0012', '0.0006', '1.01718'], ['-8.9071', '0.0001', '0.0012', '0.0007', '1.01478'], ['-8.9071', '0.0006', '0.0054', '0.0041', '1.05356'], ['-8.9065', '0.0003', '0.0014', '0.0010', '1.01377'], ['-8.9062', '0.0001', '0.0012', '0.0013', '1.00899'], ['-8.9032', '0.0001', '0.0030', '0.0031', '1.02176'], ['-8.9072', '0.0001', '0.0010', '0.0009', '1.00875'], ['-8.90850', '0.00023', '0.00095', '0.00095', '1.00675'], ['-8.9058', '0.0005', '0.0012', '0.0007', '1.01661'], ['-8.8987', '0.0025', '0.0040', '0.0065', '1.01850'], ['-8.9065', '0.0006', '0.0014', '0.0010', '1.01432'], ['-8.9062', '0.0011', '0.0030', '0.0022', '1.03163'], ['-8.9042', '0.0015', '0.0038', '0.0029', '1.03723'], ['-8.9059', '0.0001', '0.0016', '0.0013', '1.01509'], ['-8.9058', '0.0000', '0.0014', '0.0015', '1.00974'], ['-8.9052', '0.0017', '0.0026', '0.0015', '1.03427'], ['-8.90512', '0.00015', '0.00057', '0.00095', '1.00190'], ['-8.882', '0.000', '0.014', '0.014', '1.10079'], ['-8.90617', '0.00011', '0.00026', '0.00060', '1.00008'], ['-8.9071', '0.0004', '0.0016', '0.0013', '1.01464'], ['-8.90659', '0.00019', '0.00066', '0.00058', '1.00520'], ['-8.90681', '0.00007', '0.00043', '0.00037', '1.00310'], ['-8.90701', '0.00015', '0.00063', '0.00021', '1.01442'], ['-8.8913', '0.0006', '0.0091', '0.0133', '1.04833'], ['-8.9051', '0.0004', '0.0031', '0.0021', '1.03517'], ['-8.9058', '0.0020', '0.0022', '0.0018', '1.02066'], ['-8.9034', '0.0027', '0.0041', '0.0024', '1.05420'], ['-8.9097', '0.0009', '0.0035', '0.0031', '1.03123'], ['-8.9058', '0.0001', '0.0016', '0.0014', '1.01331'], ['-8.9059', '0.0002', '0.0015', '0.0012', '1.01465'], ['-8.9060', '0.0006', '0.0015', '0.0015', '1.01228'], ['-8.9058', '0.0016', '0.0012', '0.0012', '1.00839'], ['-8.90508', '0.00051', '0.00064', '0.00130', '1.00169'], ['-8.90599', '0.00050', '0.00055', '0.00018', '1.01210'], ['-8.90734', '0.00042', '0.00011', '0.00006', '1.00094'], ['-8.90786', '0.00208', '0.00095', '0.00181', '1.00323'], ['-8.9069', '0.0011', '0.0036', '0.0026', '1.03801'], ['-8.9065', '0.0003', '0.0011', '0.0014', '1.00590'], ['-8.9055', '0.0000', '0.0011', '0.0010', '1.00940'], ['-8.889', '0.000', '0.020', '0.014', '1.21151'], ['-8.9042', '0.0002', '0.0026', '0.0016', '1.03122'], ['-8.9076', '0.0023', '0.0016', '0.0012', '1.01730'], ['-8.9063', '0.0005', '0.0018', '0.0013', '1.01970'], ['-8.9078', '0.0014', '0.0029', '0.0022', '1.02934'], ['-8.890', '0.004', '0.012', '0.012', '1.09045'], ['-8.879', '0.009', '0.016', '0.017', '1.11078'], ['-8.8948', '0.0037', '0.0088', '0.0092', '1.06417'], ['-8.9053', '0.0014', '0.0027', '0.0024', '1.02345'], ['-8.895', '0.002', '0.010', '0.010', '1.08329'], ['-8.9060', '0.0000', '0.0016', '0.0012', '1.01533']]\n"
     ]
    }
   ],
   "source": [
    "print(test)"
   ]
  },
  {
   "cell_type": "code",
   "execution_count": 70,
   "metadata": {},
   "outputs": [
    {
     "name": "stdout",
     "output_type": "stream",
     "text": [
      "x_val [1.0012, 0.99989, 0.99956, 0.99987, 1.00033, 1.00025, 1.00107, 1.00213, 1.00265, 1.00137, 1.00294, 1.00329, 1.00265, 1.0019, 1.00443, 1.00351, 1.00186, 1.00166, 1.00302, 1.00379, 1.00343, 1.00685, 1.01043, 1.00673, 1.05054, 1.00513, 1.00085, 1.01003, 1.04731, 1.01318, 1.03014, 1.04945, 1.06094, 1.01676, 1.06511, 1.04483, 1.01415, 1.07456, 1.10936, 1.00016, 1.10322, 1.04488, 1.59448, 1.00147, 2.71868, 1.18824, 0.99987, 6.88636, 7.00118, 1.0009]\n",
      "y_val [-7.995, -8.0431, -8.0689, -8.1082, -8.1603, -8.2165, -8.298, -8.384, -8.454, -8.526, -8.606, -8.6933, -8.7258, -8.8055, -8.8128, -8.85, -8.8605, -8.8745, -8.8768, -8.8852, -8.8921, -8.888, -8.8885, -8.8968, -8.8922, -8.8939, -8.8964, -8.8962, -8.897, -8.8948, -8.8914, -8.8933, -8.8963, -8.8928, -8.8994, -8.9051, -8.9058, -8.9011, -8.895, -8.90645, -8.901, -8.9043, -8.874, -8.91028, -8.887, -8.883, -8.91228, -8.877, -8.806, -8.90512]\n"
     ]
    },
    {
     "data": {
      "image/png": "[encoded data removed]",
      "text/plain": [
       "<Figure size 432x288 with 1 Axes>"
      ]
     },
     "metadata": {
      "needs_background": "light"
     },
     "output_type": "display_data"
    }
   ],
   "source": [
    "# plot \n",
    "x_val = []\n",
    "y_val = []\n",
    "var = []\n",
    "\n",
    "for data in range(len(test)):\n",
    "    y_val.append(float(test[data][0]))\n",
    "    x_val.append(float(test[data][4]))\n",
    "    var.append(float(test[data][3]))\n",
    "    \n",
    "print(\"x_val\", x_val)\n",
    "print(\"y_val\", y_val)\n",
    "\n",
    "plt.plot(x_val, y_val,'ro')\n",
    "plt.xlabel('radii')\n",
    "plt.ylabel('energy')\n",
    "plt.title('Energy(radius)')\n",
    "plt.show()\n",
    "\n",
    "# plt.plot(x_val, y_val,'ro')\n",
    "# plt.xlabel('radii')\n",
    "# plt.ylabel('energy')\n",
    "# plt.title('Energy(radius)')\n",
    "# plt.show()"
   ]
  },
  {
   "cell_type": "code",
   "execution_count": null,
   "metadata": {},
   "outputs": [],
   "source": []
  }
 ],
 "metadata": {
  "kernelspec": {
   "display_name": "Python 3",
   "language": "python",
   "name": "python3"
  },
  "language_info": {
   "codemirror_mode": {
    "name": "ipython",
    "version": 3
   },
   "file_extension": ".py",
   "mimetype": "text/x-python",
   "name": "python",
   "nbconvert_exporter": "python",
   "pygments_lexer": "ipython3",
   "version": "3.7.4"
  }
 },
 "nbformat": 4,
 "nbformat_minor": 2
}
